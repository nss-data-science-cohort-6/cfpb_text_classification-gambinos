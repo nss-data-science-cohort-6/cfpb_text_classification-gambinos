{
 "cells": [
  {
   "cell_type": "code",
   "execution_count": 1,
   "id": "1c5a94ff",
   "metadata": {},
   "outputs": [],
   "source": [
    "import pandas as pd\n",
    "from sklearn.feature_extraction.text import CountVectorizer\n",
    "from sklearn.model_selection import train_test_split\n",
    "import re"
   ]
  },
  {
   "cell_type": "code",
   "execution_count": 2,
   "id": "8b97505b",
   "metadata": {},
   "outputs": [],
   "source": [
    "complaints = pd.read_csv('complaints.csv')"
   ]
  },
  {
   "cell_type": "code",
   "execution_count": 3,
   "id": "75f371c6",
   "metadata": {},
   "outputs": [],
   "source": [
    "complaints = complaints.rename(columns = {'Consumer complaint narrative': 'complaints_narrative',\n",
    "                                         'Issue': 'complaints_issue'})"
   ]
  },
  {
   "cell_type": "code",
   "execution_count": 4,
   "id": "e96d3063",
   "metadata": {},
   "outputs": [
    {
     "data": {
      "text/html": [
       "<div>\n",
       "<style scoped>\n",
       "    .dataframe tbody tr th:only-of-type {\n",
       "        vertical-align: middle;\n",
       "    }\n",
       "\n",
       "    .dataframe tbody tr th {\n",
       "        vertical-align: top;\n",
       "    }\n",
       "\n",
       "    .dataframe thead th {\n",
       "        text-align: right;\n",
       "    }\n",
       "</style>\n",
       "<table border=\"1\" class=\"dataframe\">\n",
       "  <thead>\n",
       "    <tr style=\"text-align: right;\">\n",
       "      <th></th>\n",
       "      <th>complaints_narrative</th>\n",
       "      <th>complaints_issue</th>\n",
       "    </tr>\n",
       "  </thead>\n",
       "  <tbody>\n",
       "    <tr>\n",
       "      <th>0</th>\n",
       "      <td>My name is XXXX XXXX this complaint is not mad...</td>\n",
       "      <td>Incorrect information on your report</td>\n",
       "    </tr>\n",
       "    <tr>\n",
       "      <th>1</th>\n",
       "      <td>I searched on XXXX for XXXXXXXX XXXX  and was ...</td>\n",
       "      <td>Fraud or scam</td>\n",
       "    </tr>\n",
       "    <tr>\n",
       "      <th>2</th>\n",
       "      <td>I have a particular account that is stating th...</td>\n",
       "      <td>Incorrect information on your report</td>\n",
       "    </tr>\n",
       "    <tr>\n",
       "      <th>3</th>\n",
       "      <td>I have not supplied proof under the doctrine o...</td>\n",
       "      <td>Attempts to collect debt not owed</td>\n",
       "    </tr>\n",
       "    <tr>\n",
       "      <th>4</th>\n",
       "      <td>Hello i'm writing regarding account on my cred...</td>\n",
       "      <td>Incorrect information on your report</td>\n",
       "    </tr>\n",
       "    <tr>\n",
       "      <th>...</th>\n",
       "      <td>...</td>\n",
       "      <td>...</td>\n",
       "    </tr>\n",
       "    <tr>\n",
       "      <th>353427</th>\n",
       "      <td>Collections account I have no knowledge of</td>\n",
       "      <td>Attempts to collect debt not owed</td>\n",
       "    </tr>\n",
       "    <tr>\n",
       "      <th>353428</th>\n",
       "      <td>Dear CFPB Team, The reason for my complaint is...</td>\n",
       "      <td>Attempts to collect debt not owed</td>\n",
       "    </tr>\n",
       "    <tr>\n",
       "      <th>353429</th>\n",
       "      <td>FRCA violations : Failing to Follow Debt Dispu...</td>\n",
       "      <td>Attempts to collect debt not owed</td>\n",
       "    </tr>\n",
       "    <tr>\n",
       "      <th>353430</th>\n",
       "      <td>My Father, a XXXX XXXX  acquired an HECM rever...</td>\n",
       "      <td>Struggling to pay mortgage</td>\n",
       "    </tr>\n",
       "    <tr>\n",
       "      <th>353431</th>\n",
       "      <td>I have tried to contact cash app about a fraud...</td>\n",
       "      <td>Fraud or scam</td>\n",
       "    </tr>\n",
       "  </tbody>\n",
       "</table>\n",
       "<p>353432 rows × 2 columns</p>\n",
       "</div>"
      ],
      "text/plain": [
       "                                     complaints_narrative  \\\n",
       "0       My name is XXXX XXXX this complaint is not mad...   \n",
       "1       I searched on XXXX for XXXXXXXX XXXX  and was ...   \n",
       "2       I have a particular account that is stating th...   \n",
       "3       I have not supplied proof under the doctrine o...   \n",
       "4       Hello i'm writing regarding account on my cred...   \n",
       "...                                                   ...   \n",
       "353427         Collections account I have no knowledge of   \n",
       "353428  Dear CFPB Team, The reason for my complaint is...   \n",
       "353429  FRCA violations : Failing to Follow Debt Dispu...   \n",
       "353430  My Father, a XXXX XXXX  acquired an HECM rever...   \n",
       "353431  I have tried to contact cash app about a fraud...   \n",
       "\n",
       "                            complaints_issue  \n",
       "0       Incorrect information on your report  \n",
       "1                              Fraud or scam  \n",
       "2       Incorrect information on your report  \n",
       "3          Attempts to collect debt not owed  \n",
       "4       Incorrect information on your report  \n",
       "...                                      ...  \n",
       "353427     Attempts to collect debt not owed  \n",
       "353428     Attempts to collect debt not owed  \n",
       "353429     Attempts to collect debt not owed  \n",
       "353430            Struggling to pay mortgage  \n",
       "353431                         Fraud or scam  \n",
       "\n",
       "[353432 rows x 2 columns]"
      ]
     },
     "execution_count": 4,
     "metadata": {},
     "output_type": "execute_result"
    }
   ],
   "source": [
    "complaints"
   ]
  },
  {
   "cell_type": "code",
   "execution_count": 5,
   "id": "126a4367",
   "metadata": {},
   "outputs": [],
   "source": [
    "complaints['complaints_narrative'] = complaints['complaints_narrative'].str.replace(r'[xX][xX]+',\"\", regex = True)"
   ]
  },
  {
   "cell_type": "code",
   "execution_count": 6,
   "id": "7576d624",
   "metadata": {},
   "outputs": [
    {
     "data": {
      "text/plain": [
       "18        I HAVE DISPUTED WITH EXPERIAN AND  OVER MY CRE...\n",
       "36        On the morning of //2023 I received a phone ca...\n",
       "143       I have been trying to get these fraudulent tra...\n",
       "145       This statement is being made by me there is no...\n",
       "149       IDENTITY THEFT //   ,         , Florida  Date ...\n",
       "                                ...                        \n",
       "353373    The only duplicates those looter organizer ref...\n",
       "353379    Texas Department of Savings and Mortgage Lendi...\n",
       "353382        (  )     (  ) contacted us via mail, we re...\n",
       "353388      purchased our first home together in //. At ...\n",
       "353391    i ordered a product, Phone :     :  URL :   th...\n",
       "Name: complaints_narrative, Length: 16764, dtype: object"
      ]
     },
     "execution_count": 6,
     "metadata": {},
     "output_type": "execute_result"
    }
   ],
   "source": [
    "complaints['complaints_narrative'][complaints['complaints_narrative'].str.contains('X')]"
   ]
  },
  {
   "cell_type": "code",
   "execution_count": 7,
   "id": "07ebd71b",
   "metadata": {},
   "outputs": [
    {
     "data": {
      "text/plain": [
       "X    32529\n",
       "Name: 0, dtype: int64"
      ]
     },
     "execution_count": 7,
     "metadata": {},
     "output_type": "execute_result"
    }
   ],
   "source": [
    "complaints['complaints_narrative'].str.extractall(r\"(X+)\")[0].value_counts()"
   ]
  },
  {
   "cell_type": "code",
   "execution_count": 8,
   "id": "9dd08a99",
   "metadata": {},
   "outputs": [],
   "source": [
    "complaints['complaint_length'] = complaints['complaints_narrative'].apply(len)"
   ]
  },
  {
   "cell_type": "code",
   "execution_count": 13,
   "id": "3125f68b",
   "metadata": {},
   "outputs": [
    {
     "data": {
      "text/plain": [
       "complaints_narrative    0\n",
       "complaints_issue        0\n",
       "complaint_length        0\n",
       "dtype: int64"
      ]
     },
     "execution_count": 13,
     "metadata": {},
     "output_type": "execute_result"
    }
   ],
   "source": [
    "complaints.isna().sum()"
   ]
  },
  {
   "cell_type": "code",
   "execution_count": 21,
   "id": "95342937",
   "metadata": {},
   "outputs": [],
   "source": [
    "# Importing spacy\n",
    "import spacy\n",
    "nlp = spacy.load('en_core_web_sm',disable=['parser', 'ner'])"
   ]
  },
  {
   "cell_type": "code",
   "execution_count": null,
   "id": "8c63726d",
   "metadata": {},
   "outputs": [],
   "source": [
    "# Lemmatization with stopwords removal\n",
    "complaints['lemmatized']=complaints['complaints_narrative'].apply(lambda x: ' '.join([token.lemma_ for token in list(nlp(x)) if (token.is_stop==False)]))\n"
   ]
  },
  {
   "cell_type": "code",
   "execution_count": null,
   "id": "533220e6",
   "metadata": {},
   "outputs": [],
   "source": [
    "# stripping all numeric values from complaints\n",
    "complaints['complaint_narrative'] = complaints['complaint_narrative'].str.replace('\\d+', '', regex=True)"
   ]
  },
  {
   "cell_type": "code",
   "execution_count": null,
   "id": "310336b0",
   "metadata": {},
   "outputs": [],
   "source": [
    "# Use mapping to convert columns to numerical values\n",
    "issue_mapping = {'Attempts to collect debt not owed': 1, \n",
    "                 'Communication tactics': 2, \n",
    "                 'Fraud or scam': 3, 'Incorrect information on your report': 4,\n",
    "                 'Struggling to pay mortgage': 5}\n",
    "\n",
    "# replace the issue values with numerical values\n",
    "\n",
    "complaints['issue'] = complaints['issue'].replace(issue_mapping)"
   ]
  },
  {
   "cell_type": "code",
   "execution_count": null,
   "id": "866a53ab",
   "metadata": {},
   "outputs": [],
   "source": [
    "import string\n",
    "stopwords_list = stopwords.words('english') + list(string.punctuation)"
   ]
  },
  {
   "cell_type": "code",
   "execution_count": null,
   "id": "17178f04",
   "metadata": {},
   "outputs": [],
   "source": [
    "from nltk.corpus import stopwords"
   ]
  },
  {
   "cell_type": "code",
   "execution_count": 10,
   "id": "22959532",
   "metadata": {},
   "outputs": [],
   "source": [
    "X = complaints[['complaints_narrative']]\n",
    "y = complaints['complaints_issue']\n",
    "\n",
    "X_train, X_test, y_train, y_test = train_test_split(X, y, random_state = 321, stratify = y)"
   ]
  },
  {
   "cell_type": "code",
   "execution_count": 11,
   "id": "70afcb6f",
   "metadata": {},
   "outputs": [],
   "source": [
    "vect = CountVectorizer()\n",
    "\n",
    "X_train_vec = vect.fit_transform(X_train['complaints_narrative'])\n",
    "X_test_vec = vect.transform(X_test['complaints_narrative'])"
   ]
  },
  {
   "cell_type": "code",
   "execution_count": 12,
   "id": "db9eeb10",
   "metadata": {},
   "outputs": [
    {
     "ename": "MemoryError",
     "evalue": "Unable to allocate 137. GiB for an array with shape (265074, 69470) and data type int64",
     "output_type": "error",
     "traceback": [
      "\u001b[1;31m---------------------------------------------------------------------------\u001b[0m",
      "\u001b[1;31mMemoryError\u001b[0m                               Traceback (most recent call last)",
      "Cell \u001b[1;32mIn[12], line 3\u001b[0m\n\u001b[0;32m      1\u001b[0m word_counts \u001b[38;5;241m=\u001b[39m pd\u001b[38;5;241m.\u001b[39mDataFrame({\n\u001b[0;32m      2\u001b[0m     \u001b[38;5;124m'\u001b[39m\u001b[38;5;124mwords\u001b[39m\u001b[38;5;124m'\u001b[39m: vect\u001b[38;5;241m.\u001b[39mget_feature_names_out(),\n\u001b[1;32m----> 3\u001b[0m     \u001b[38;5;124m'\u001b[39m\u001b[38;5;124mfrequency\u001b[39m\u001b[38;5;124m'\u001b[39m: \u001b[43mX_train_vec\u001b[49m\u001b[38;5;241;43m.\u001b[39;49m\u001b[43mtoarray\u001b[49m\u001b[43m(\u001b[49m\u001b[43m)\u001b[49m\u001b[38;5;241m.\u001b[39msum(axis \u001b[38;5;241m=\u001b[39m \u001b[38;5;241m0\u001b[39m)\n\u001b[0;32m      4\u001b[0m })\n\u001b[0;32m      6\u001b[0m word_counts\u001b[38;5;241m.\u001b[39mhead()\n",
      "File \u001b[1;32m~\\ANACONDA\\lib\\site-packages\\scipy\\sparse\\_compressed.py:1051\u001b[0m, in \u001b[0;36m_cs_matrix.toarray\u001b[1;34m(self, order, out)\u001b[0m\n\u001b[0;32m   1049\u001b[0m \u001b[38;5;28;01mif\u001b[39;00m out \u001b[38;5;129;01mis\u001b[39;00m \u001b[38;5;28;01mNone\u001b[39;00m \u001b[38;5;129;01mand\u001b[39;00m order \u001b[38;5;129;01mis\u001b[39;00m \u001b[38;5;28;01mNone\u001b[39;00m:\n\u001b[0;32m   1050\u001b[0m     order \u001b[38;5;241m=\u001b[39m \u001b[38;5;28mself\u001b[39m\u001b[38;5;241m.\u001b[39m_swap(\u001b[38;5;124m'\u001b[39m\u001b[38;5;124mcf\u001b[39m\u001b[38;5;124m'\u001b[39m)[\u001b[38;5;241m0\u001b[39m]\n\u001b[1;32m-> 1051\u001b[0m out \u001b[38;5;241m=\u001b[39m \u001b[38;5;28;43mself\u001b[39;49m\u001b[38;5;241;43m.\u001b[39;49m\u001b[43m_process_toarray_args\u001b[49m\u001b[43m(\u001b[49m\u001b[43morder\u001b[49m\u001b[43m,\u001b[49m\u001b[43m \u001b[49m\u001b[43mout\u001b[49m\u001b[43m)\u001b[49m\n\u001b[0;32m   1052\u001b[0m \u001b[38;5;28;01mif\u001b[39;00m \u001b[38;5;129;01mnot\u001b[39;00m (out\u001b[38;5;241m.\u001b[39mflags\u001b[38;5;241m.\u001b[39mc_contiguous \u001b[38;5;129;01mor\u001b[39;00m out\u001b[38;5;241m.\u001b[39mflags\u001b[38;5;241m.\u001b[39mf_contiguous):\n\u001b[0;32m   1053\u001b[0m     \u001b[38;5;28;01mraise\u001b[39;00m \u001b[38;5;167;01mValueError\u001b[39;00m(\u001b[38;5;124m'\u001b[39m\u001b[38;5;124mOutput array must be C or F contiguous\u001b[39m\u001b[38;5;124m'\u001b[39m)\n",
      "File \u001b[1;32m~\\ANACONDA\\lib\\site-packages\\scipy\\sparse\\_base.py:1298\u001b[0m, in \u001b[0;36mspmatrix._process_toarray_args\u001b[1;34m(self, order, out)\u001b[0m\n\u001b[0;32m   1296\u001b[0m     \u001b[38;5;28;01mreturn\u001b[39;00m out\n\u001b[0;32m   1297\u001b[0m \u001b[38;5;28;01melse\u001b[39;00m:\n\u001b[1;32m-> 1298\u001b[0m     \u001b[38;5;28;01mreturn\u001b[39;00m \u001b[43mnp\u001b[49m\u001b[38;5;241;43m.\u001b[39;49m\u001b[43mzeros\u001b[49m\u001b[43m(\u001b[49m\u001b[38;5;28;43mself\u001b[39;49m\u001b[38;5;241;43m.\u001b[39;49m\u001b[43mshape\u001b[49m\u001b[43m,\u001b[49m\u001b[43m \u001b[49m\u001b[43mdtype\u001b[49m\u001b[38;5;241;43m=\u001b[39;49m\u001b[38;5;28;43mself\u001b[39;49m\u001b[38;5;241;43m.\u001b[39;49m\u001b[43mdtype\u001b[49m\u001b[43m,\u001b[49m\u001b[43m \u001b[49m\u001b[43morder\u001b[49m\u001b[38;5;241;43m=\u001b[39;49m\u001b[43morder\u001b[49m\u001b[43m)\u001b[49m\n",
      "\u001b[1;31mMemoryError\u001b[0m: Unable to allocate 137. GiB for an array with shape (265074, 69470) and data type int64"
     ]
    }
   ],
   "source": [
    "word_counts = pd.DataFrame({\n",
    "    'words': vect.get_feature_names_out(),\n",
    "    'frequency': X_train_vec.toarray().sum(axis = 0)\n",
    "})\n",
    "\n",
    "word_counts.head()"
   ]
  },
  {
   "cell_type": "code",
   "execution_count": null,
   "id": "4f9dc128",
   "metadata": {},
   "outputs": [],
   "source": [
    "X_train_vec.shape"
   ]
  }
 ],
 "metadata": {
  "kernelspec": {
   "display_name": "Python 3 (ipykernel)",
   "language": "python",
   "name": "python3"
  },
  "language_info": {
   "codemirror_mode": {
    "name": "ipython",
    "version": 3
   },
   "file_extension": ".py",
   "mimetype": "text/x-python",
   "name": "python",
   "nbconvert_exporter": "python",
   "pygments_lexer": "ipython3",
   "version": "3.10.9"
  }
 },
 "nbformat": 4,
 "nbformat_minor": 5
}
