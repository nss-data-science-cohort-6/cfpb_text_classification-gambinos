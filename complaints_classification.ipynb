{
 "cells": [
  {
   "cell_type": "code",
   "execution_count": 1,
   "id": "17038ce1",
   "metadata": {},
   "outputs": [],
   "source": [
    "import pandas as pd\n",
    "from sklearn.feature_extraction.text import CountVectorizer\n",
    "from sklearn.model_selection import train_test_split\n",
    "import re"
   ]
  },
  {
   "cell_type": "code",
   "execution_count": 2,
   "id": "efdc8af5",
   "metadata": {},
   "outputs": [],
   "source": [
    "complaints = pd.read_csv('complaints.csv')"
   ]
  },
  {
   "cell_type": "code",
   "execution_count": 3,
   "id": "c61966a8",
   "metadata": {},
   "outputs": [],
   "source": [
    "complaints = complaints.rename(columns = {'Consumer complaint narrative': 'complaints_narrative',\n",
    "                                         'Issue': 'complaints_issue'})"
   ]
  },
  {
   "cell_type": "code",
   "execution_count": 4,
   "id": "064b14b5",
   "metadata": {},
   "outputs": [
    {
     "data": {
      "text/html": [
       "<div>\n",
       "<style scoped>\n",
       "    .dataframe tbody tr th:only-of-type {\n",
       "        vertical-align: middle;\n",
       "    }\n",
       "\n",
       "    .dataframe tbody tr th {\n",
       "        vertical-align: top;\n",
       "    }\n",
       "\n",
       "    .dataframe thead th {\n",
       "        text-align: right;\n",
       "    }\n",
       "</style>\n",
       "<table border=\"1\" class=\"dataframe\">\n",
       "  <thead>\n",
       "    <tr style=\"text-align: right;\">\n",
       "      <th></th>\n",
       "      <th>complaints_narrative</th>\n",
       "      <th>complaints_issue</th>\n",
       "    </tr>\n",
       "  </thead>\n",
       "  <tbody>\n",
       "    <tr>\n",
       "      <th>0</th>\n",
       "      <td>My name is XXXX XXXX this complaint is not mad...</td>\n",
       "      <td>Incorrect information on your report</td>\n",
       "    </tr>\n",
       "    <tr>\n",
       "      <th>1</th>\n",
       "      <td>I searched on XXXX for XXXXXXXX XXXX  and was ...</td>\n",
       "      <td>Fraud or scam</td>\n",
       "    </tr>\n",
       "    <tr>\n",
       "      <th>2</th>\n",
       "      <td>I have a particular account that is stating th...</td>\n",
       "      <td>Incorrect information on your report</td>\n",
       "    </tr>\n",
       "    <tr>\n",
       "      <th>3</th>\n",
       "      <td>I have not supplied proof under the doctrine o...</td>\n",
       "      <td>Attempts to collect debt not owed</td>\n",
       "    </tr>\n",
       "    <tr>\n",
       "      <th>4</th>\n",
       "      <td>Hello i'm writing regarding account on my cred...</td>\n",
       "      <td>Incorrect information on your report</td>\n",
       "    </tr>\n",
       "    <tr>\n",
       "      <th>...</th>\n",
       "      <td>...</td>\n",
       "      <td>...</td>\n",
       "    </tr>\n",
       "    <tr>\n",
       "      <th>353427</th>\n",
       "      <td>Collections account I have no knowledge of</td>\n",
       "      <td>Attempts to collect debt not owed</td>\n",
       "    </tr>\n",
       "    <tr>\n",
       "      <th>353428</th>\n",
       "      <td>Dear CFPB Team, The reason for my complaint is...</td>\n",
       "      <td>Attempts to collect debt not owed</td>\n",
       "    </tr>\n",
       "    <tr>\n",
       "      <th>353429</th>\n",
       "      <td>FRCA violations : Failing to Follow Debt Dispu...</td>\n",
       "      <td>Attempts to collect debt not owed</td>\n",
       "    </tr>\n",
       "    <tr>\n",
       "      <th>353430</th>\n",
       "      <td>My Father, a XXXX XXXX  acquired an HECM rever...</td>\n",
       "      <td>Struggling to pay mortgage</td>\n",
       "    </tr>\n",
       "    <tr>\n",
       "      <th>353431</th>\n",
       "      <td>I have tried to contact cash app about a fraud...</td>\n",
       "      <td>Fraud or scam</td>\n",
       "    </tr>\n",
       "  </tbody>\n",
       "</table>\n",
       "<p>353432 rows × 2 columns</p>\n",
       "</div>"
      ],
      "text/plain": [
       "                                     complaints_narrative  \\\n",
       "0       My name is XXXX XXXX this complaint is not mad...   \n",
       "1       I searched on XXXX for XXXXXXXX XXXX  and was ...   \n",
       "2       I have a particular account that is stating th...   \n",
       "3       I have not supplied proof under the doctrine o...   \n",
       "4       Hello i'm writing regarding account on my cred...   \n",
       "...                                                   ...   \n",
       "353427         Collections account I have no knowledge of   \n",
       "353428  Dear CFPB Team, The reason for my complaint is...   \n",
       "353429  FRCA violations : Failing to Follow Debt Dispu...   \n",
       "353430  My Father, a XXXX XXXX  acquired an HECM rever...   \n",
       "353431  I have tried to contact cash app about a fraud...   \n",
       "\n",
       "                            complaints_issue  \n",
       "0       Incorrect information on your report  \n",
       "1                              Fraud or scam  \n",
       "2       Incorrect information on your report  \n",
       "3          Attempts to collect debt not owed  \n",
       "4       Incorrect information on your report  \n",
       "...                                      ...  \n",
       "353427     Attempts to collect debt not owed  \n",
       "353428     Attempts to collect debt not owed  \n",
       "353429     Attempts to collect debt not owed  \n",
       "353430            Struggling to pay mortgage  \n",
       "353431                         Fraud or scam  \n",
       "\n",
       "[353432 rows x 2 columns]"
      ]
     },
     "execution_count": 4,
     "metadata": {},
     "output_type": "execute_result"
    }
   ],
   "source": [
    "complaints"
   ]
  },
  {
   "cell_type": "code",
   "execution_count": 5,
   "id": "99ae380d",
   "metadata": {},
   "outputs": [],
   "source": [
    "complaints['complaints_narrative'] = complaints['complaints_narrative'].str.replace(r'[xX][xX]+',\"\", regex = True)"
   ]
  },
  {
   "cell_type": "code",
   "execution_count": 6,
   "id": "92b11d23",
   "metadata": {},
   "outputs": [
    {
     "data": {
      "text/plain": [
       "18        I HAVE DISPUTED WITH EXPERIAN AND  OVER MY CRE...\n",
       "36        On the morning of //2023 I received a phone ca...\n",
       "143       I have been trying to get these fraudulent tra...\n",
       "145       This statement is being made by me there is no...\n",
       "149       IDENTITY THEFT //   ,         , Florida  Date ...\n",
       "                                ...                        \n",
       "353373    The only duplicates those looter organizer ref...\n",
       "353379    Texas Department of Savings and Mortgage Lendi...\n",
       "353382        (  )     (  ) contacted us via mail, we re...\n",
       "353388      purchased our first home together in //. At ...\n",
       "353391    i ordered a product, Phone :     :  URL :   th...\n",
       "Name: complaints_narrative, Length: 16764, dtype: object"
      ]
     },
     "execution_count": 6,
     "metadata": {},
     "output_type": "execute_result"
    }
   ],
   "source": [
    "complaints['complaints_narrative'][complaints['complaints_narrative'].str.contains('X')]"
   ]
  },
  {
   "cell_type": "code",
   "execution_count": 7,
   "id": "d82b1028",
   "metadata": {},
   "outputs": [
    {
     "data": {
      "text/plain": [
       "X    32529\n",
       "Name: 0, dtype: int64"
      ]
     },
     "execution_count": 7,
     "metadata": {},
     "output_type": "execute_result"
    }
   ],
   "source": [
    "complaints['complaints_narrative'].str.extractall(r\"(X+)\")[0].value_counts()"
   ]
  },
  {
   "cell_type": "code",
   "execution_count": 8,
   "id": "cd1ad16f",
   "metadata": {},
   "outputs": [],
   "source": [
    "complaints['complaint_length'] = complaints['complaints_narrative'].apply(len)"
   ]
  },
  {
   "cell_type": "code",
   "execution_count": null,
   "id": "ad3a7968",
   "metadata": {},
   "outputs": [],
   "source": []
  },
  {
   "cell_type": "code",
   "execution_count": null,
   "id": "7bc1cf45",
   "metadata": {},
   "outputs": [],
   "source": [
    "X = complaints[['Consumer complaint narrative']]\n",
    "y = complaints['Issue']\n",
    "\n",
    "X_train, X_test, y_train, y_test = train_test_split(X, y, random_state = 321, stratify = y)"
   ]
  },
  {
   "cell_type": "code",
   "execution_count": null,
   "id": "4b3b0755",
   "metadata": {},
   "outputs": [],
   "source": [
    "vect = CountVectorizer()\n",
    "\n",
    "X_train_vec = vect.fit_transform(X_train['Consumer complaint narrative'])\n",
    "X_test_vec = vect.transform(X_test['Consumer complaint narrative'])"
   ]
  },
  {
   "cell_type": "code",
   "execution_count": null,
   "id": "ad4e78c9",
   "metadata": {},
   "outputs": [],
   "source": [
    "word_counts = pd.DataFrame({\n",
    "    'words': vect.get_feature_names_out(),\n",
    "    'frequency': X_train_vec.toarray().sum(axis = 0)\n",
    "})\n",
    "\n",
    "word_counts.head()"
   ]
  },
  {
   "cell_type": "code",
   "execution_count": null,
   "id": "ae3494c5",
   "metadata": {},
   "outputs": [],
   "source": [
    "X_train_vec.shape"
   ]
  }
 ],
 "metadata": {
  "kernelspec": {
   "display_name": "Python 3 (ipykernel)",
   "language": "python",
   "name": "python3"
  },
  "language_info": {
   "codemirror_mode": {
    "name": "ipython",
    "version": 3
   },
   "file_extension": ".py",
   "mimetype": "text/x-python",
   "name": "python",
   "nbconvert_exporter": "python",
   "pygments_lexer": "ipython3",
   "version": "3.10.9"
  }
 },
 "nbformat": 4,
 "nbformat_minor": 5
}
