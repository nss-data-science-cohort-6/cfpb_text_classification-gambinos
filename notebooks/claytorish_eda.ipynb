{
 "cells": [
  {
   "cell_type": "code",
   "execution_count": 4,
   "id": "297cebf4-71a4-4171-8edd-b753d9c3d22d",
   "metadata": {},
   "outputs": [],
   "source": [
    "import pandas as pd\n",
    "import re\n",
    "from sklearn.model_selection import train_test_split\n",
    "from sklearn.feature_extraction.text import CountVectorizer\n",
    "import numpy as np"
   ]
  },
  {
   "cell_type": "markdown",
   "id": "3d097048-4f6c-499f-91e3-eefcd5aca554",
   "metadata": {},
   "source": [
    "You have been provided with a dataset of over 350,000 such complaints for 5 common issue types. Your goal is to train a text classification model to identify the issue type based on the consumer complaint narrative. The data can be downloaded from"
   ]
  },
  {
   "cell_type": "code",
   "execution_count": 6,
   "id": "03ea5fbe-334f-4455-971d-21586df4fc49",
   "metadata": {},
   "outputs": [],
   "source": [
    "# Read in data\n",
    "complaints = pd.read_csv('../data/complaints.csv')\n",
    "\n",
    "# Standardized column naming\n",
    "complaints.columns = [x.replace('Consumer ', '').lower().replace(' ', '_') for x in complaints.columns]\n",
    "complaints['complaint_length'] = complaints['complaint_narrative'].apply(len)"
   ]
  },
  {
   "cell_type": "code",
   "execution_count": 8,
   "id": "1295c16b-69c2-4d12-9503-5e053d8d64ec",
   "metadata": {},
   "outputs": [
    {
     "data": {
      "text/plain": [
       "Incorrect information on your report    229305\n",
       "Attempts to collect debt not owed        73163\n",
       "Communication tactics                    21243\n",
       "Struggling to pay mortgage               17374\n",
       "Fraud or scam                            12347\n",
       "Name: issue, dtype: int64"
      ]
     },
     "execution_count": 8,
     "metadata": {},
     "output_type": "execute_result"
    }
   ],
   "source": [
    "# Explore the count of unique complaints for each issue.\n",
    "complaints['issue'].value_counts()"
   ]
  },
  {
   "cell_type": "code",
   "execution_count": 9,
   "id": "63e6f0e9",
   "metadata": {},
   "outputs": [
    {
     "data": {
      "text/plain": [
       "0         My name is XXXX XXXX this complaint is not mad...\n",
       "1         I searched on XXXX for XXXXXXXX XXXX  and was ...\n",
       "2         I have a particular account that is stating th...\n",
       "3         I have not supplied proof under the doctrine o...\n",
       "4         Hello i'm writing regarding account on my cred...\n",
       "                                ...                        \n",
       "353427           Collections account I have no knowledge of\n",
       "353428    Dear CFPB Team, The reason for my complaint is...\n",
       "353429    FRCA violations : Failing to Follow Debt Dispu...\n",
       "353430    My Father, a XXXX XXXX  acquired an HECM rever...\n",
       "353431    I have tried to contact cash app about a fraud...\n",
       "Name: complaint_narrative, Length: 353432, dtype: object"
      ]
     },
     "execution_count": 9,
     "metadata": {},
     "output_type": "execute_result"
    }
   ],
   "source": [
    "# Explore some data from the narratives column.\n",
    "#there appears to be multiple areas where data is redacted.\n",
    "complaints['complaint_narrative']"
   ]
  },
  {
   "cell_type": "code",
   "execution_count": 10,
   "id": "38a0ee69",
   "metadata": {},
   "outputs": [
    {
     "name": "stdout",
     "output_type": "stream",
     "text": [
      "I just reviewed a copy of my Experian credit report and found the following information to be an error. I am a victim of identity theft and did not make these charges. I reported the theft of my identity to the Federal Trade Commission.\n",
      "-----------------------------\n",
      "after my legal separation from my husband he started to open credit in my name with no permission I have a legal case against him but can not find him he has ruined my life his name is XXXX XXXX XXXX   remove I have disputed by mail with all three credit bureaus. act # XXXX owing an alleged {$2200.00} XXXX   XXXX  orig creditor XXXX\n",
      "-----------------------------\n",
      "Equifax report a collections account \" XXXX XXXX XXXX ''. I have no knowledge of this account. I have not been furnished any proof or verifications of this account. I don't have any signed contract agreements with XXXX XXXX XXXX, verbal agreements nor any paperwork associated with them. A proper investigation according to FCRA was not conducted, word of mouth from the creditor is not proper. I request a legal and legitimate investigation be conducted and concrete proof of account.\n",
      "-----------------------------\n"
     ]
    }
   ],
   "source": [
    "# Looking at some narratives inside the \"Incorrect information\" complaint.\n",
    "seed = 123\n",
    "for complaint in complaints.loc[complaints['issue'] == 'Incorrect information on your report', 'complaint_narrative'].sample(3, random_state=seed):\n",
    "    print(complaint)\n",
    "    print('-----------------------------')"
   ]
  },
  {
   "cell_type": "code",
   "execution_count": 13,
   "id": "e04410d6",
   "metadata": {},
   "outputs": [
    {
     "data": {
      "text/html": [
       "<div>\n",
       "<style scoped>\n",
       "    .dataframe tbody tr th:only-of-type {\n",
       "        vertical-align: middle;\n",
       "    }\n",
       "\n",
       "    .dataframe tbody tr th {\n",
       "        vertical-align: top;\n",
       "    }\n",
       "\n",
       "    .dataframe thead th {\n",
       "        text-align: right;\n",
       "    }\n",
       "</style>\n",
       "<table border=\"1\" class=\"dataframe\">\n",
       "  <thead>\n",
       "    <tr style=\"text-align: right;\">\n",
       "      <th></th>\n",
       "      <th></th>\n",
       "      <th>0</th>\n",
       "      <th>count</th>\n",
       "    </tr>\n",
       "    <tr>\n",
       "      <th>issue</th>\n",
       "      <th></th>\n",
       "      <th></th>\n",
       "      <th></th>\n",
       "    </tr>\n",
       "  </thead>\n",
       "  <tbody>\n",
       "    <tr>\n",
       "      <th rowspan=\"5\" valign=\"top\">Attempts to collect debt not owed</th>\n",
       "      <th>0</th>\n",
       "      <td>3Xs</td>\n",
       "      <td>1</td>\n",
       "    </tr>\n",
       "    <tr>\n",
       "      <th>1</th>\n",
       "      <td>AMERICANEXPRESS</td>\n",
       "      <td>2</td>\n",
       "    </tr>\n",
       "    <tr>\n",
       "      <th>2</th>\n",
       "      <td>ANXIETY</td>\n",
       "      <td>1</td>\n",
       "    </tr>\n",
       "    <tr>\n",
       "      <th>3</th>\n",
       "      <td>APPROXIMATELY</td>\n",
       "      <td>3</td>\n",
       "    </tr>\n",
       "    <tr>\n",
       "      <th>4</th>\n",
       "      <td>AXCESS</td>\n",
       "      <td>1</td>\n",
       "    </tr>\n",
       "    <tr>\n",
       "      <th>...</th>\n",
       "      <th>...</th>\n",
       "      <td>...</td>\n",
       "      <td>...</td>\n",
       "    </tr>\n",
       "    <tr>\n",
       "      <th rowspan=\"5\" valign=\"top\">Struggling to pay mortgage</th>\n",
       "      <th>132</th>\n",
       "      <td>TOXIC</td>\n",
       "      <td>5</td>\n",
       "    </tr>\n",
       "    <tr>\n",
       "      <th>133</th>\n",
       "      <td>TXHAF</td>\n",
       "      <td>11</td>\n",
       "    </tr>\n",
       "    <tr>\n",
       "      <th>134</th>\n",
       "      <td>UNEXCUSABLE</td>\n",
       "      <td>1</td>\n",
       "    </tr>\n",
       "    <tr>\n",
       "      <th>135</th>\n",
       "      <td>UNEXPLAINED</td>\n",
       "      <td>1</td>\n",
       "    </tr>\n",
       "    <tr>\n",
       "      <th>136</th>\n",
       "      <td>eXPlain</td>\n",
       "      <td>1</td>\n",
       "    </tr>\n",
       "  </tbody>\n",
       "</table>\n",
       "<p>737 rows × 2 columns</p>\n",
       "</div>"
      ],
      "text/plain": [
       "                                                     0  count\n",
       "issue                                                        \n",
       "Attempts to collect debt not owed 0                3Xs      1\n",
       "                                  1    AMERICANEXPRESS      2\n",
       "                                  2            ANXIETY      1\n",
       "                                  3      APPROXIMATELY      3\n",
       "                                  4             AXCESS      1\n",
       "...                                                ...    ...\n",
       "Struggling to pay mortgage        132            TOXIC      5\n",
       "                                  133            TXHAF     11\n",
       "                                  134      UNEXCUSABLE      1\n",
       "                                  135      UNEXPLAINED      1\n",
       "                                  136          eXPlain      1\n",
       "\n",
       "[737 rows x 2 columns]"
      ]
     },
     "execution_count": 13,
     "metadata": {},
     "output_type": "execute_result"
    }
   ],
   "source": [
    "# replacing strings in narrative to remove consecutive x's\n",
    "complaints['complaint_narrative'] = complaints['complaint_narrative'].str.replace(r'[xX][xX]+','', regex=True)\n",
    "\n",
    "#Looking at cleaned output that has occurence of only one \"x\"\n",
    "complaints.groupby('issue')['complaint_narrative'].apply(lambda x: x.str.extractall(r'(\\w+X+\\w+)').groupby(0).size().reset_index(name='count'))\n"
   ]
  }
 ],
 "metadata": {
  "kernelspec": {
   "display_name": "Python 3 (ipykernel)",
   "language": "python",
   "name": "python3"
  },
  "language_info": {
   "codemirror_mode": {
    "name": "ipython",
    "version": 3
   },
   "file_extension": ".py",
   "mimetype": "text/x-python",
   "name": "python",
   "nbconvert_exporter": "python",
   "pygments_lexer": "ipython3",
   "version": "3.9.16"
  }
 },
 "nbformat": 4,
 "nbformat_minor": 5
}
