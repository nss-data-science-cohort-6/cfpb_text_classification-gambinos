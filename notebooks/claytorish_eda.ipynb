{
 "cells": [
  {
   "cell_type": "code",
   "execution_count": 11,
   "id": "297cebf4-71a4-4171-8edd-b753d9c3d22d",
   "metadata": {},
   "outputs": [],
   "source": [
    "import pandas as pd\n",
    "import nltk\n",
    "from nltk import pos_tag, word_tokenize\n",
    "from nltk.stem import PorterStemmer, WordNetLemmatizer\n",
    "from nltk.corpus import stopwords\n",
    "from sklearn.model_selection import train_test_split\n",
    "from sklearn.feature_extraction.text import CountVectorizer\n",
    "import numpy as np\n",
    "import string\n",
    "from tqdm import tqdm"
   ]
  },
  {
   "attachments": {},
   "cell_type": "markdown",
   "id": "3d097048-4f6c-499f-91e3-eefcd5aca554",
   "metadata": {},
   "source": [
    "You have been provided with a dataset of over 350,000 such complaints for 5 common issue types. \n",
    "\n",
    "> Your goal is to *train* a **text classification** model to **identify** the **issue type** based on the consumer **complaint narrative**."
   ]
  },
  {
   "cell_type": "code",
   "execution_count": 2,
   "id": "03ea5fbe-334f-4455-971d-21586df4fc49",
   "metadata": {},
   "outputs": [],
   "source": [
    "# Read in data\n",
    "complaints = pd.read_csv('../data/complaints.csv')\n",
    "\n",
    "# Standardized column naming\n",
    "complaints.columns = [x.replace('Consumer ', '').lower().replace(' ', '_') for x in complaints.columns]\n",
    "complaints['complaint_length'] = complaints['complaint_narrative'].apply(len)"
   ]
  },
  {
   "attachments": {},
   "cell_type": "markdown",
   "id": "9cc1617d",
   "metadata": {},
   "source": [
    "We standardized the column naming conventions for team coordination."
   ]
  },
  {
   "cell_type": "code",
   "execution_count": 3,
   "id": "1295c16b-69c2-4d12-9503-5e053d8d64ec",
   "metadata": {},
   "outputs": [
    {
     "data": {
      "text/plain": [
       "Incorrect information on your report    229305\n",
       "Attempts to collect debt not owed        73163\n",
       "Communication tactics                    21243\n",
       "Struggling to pay mortgage               17374\n",
       "Fraud or scam                            12347\n",
       "Name: issue, dtype: int64"
      ]
     },
     "execution_count": 3,
     "metadata": {},
     "output_type": "execute_result"
    }
   ],
   "source": [
    "# Explore the count of unique complaints for each issue.\n",
    "complaints['issue'].value_counts()"
   ]
  },
  {
   "cell_type": "code",
   "execution_count": 4,
   "id": "0adbd6f7",
   "metadata": {},
   "outputs": [
    {
     "data": {
      "text/html": [
       "<div>\n",
       "<style scoped>\n",
       "    .dataframe tbody tr th:only-of-type {\n",
       "        vertical-align: middle;\n",
       "    }\n",
       "\n",
       "    .dataframe tbody tr th {\n",
       "        vertical-align: top;\n",
       "    }\n",
       "\n",
       "    .dataframe thead th {\n",
       "        text-align: right;\n",
       "    }\n",
       "</style>\n",
       "<table border=\"1\" class=\"dataframe\">\n",
       "  <thead>\n",
       "    <tr style=\"text-align: right;\">\n",
       "      <th></th>\n",
       "      <th>complaint_narrative</th>\n",
       "      <th>issue</th>\n",
       "      <th>complaint_length</th>\n",
       "    </tr>\n",
       "  </thead>\n",
       "  <tbody>\n",
       "    <tr>\n",
       "      <th>0</th>\n",
       "      <td>My name is XXXX XXXX this complaint is not mad...</td>\n",
       "      <td>Incorrect information on your report</td>\n",
       "      <td>711</td>\n",
       "    </tr>\n",
       "    <tr>\n",
       "      <th>1</th>\n",
       "      <td>I searched on XXXX for XXXXXXXX XXXX  and was ...</td>\n",
       "      <td>Fraud or scam</td>\n",
       "      <td>1958</td>\n",
       "    </tr>\n",
       "    <tr>\n",
       "      <th>2</th>\n",
       "      <td>I have a particular account that is stating th...</td>\n",
       "      <td>Incorrect information on your report</td>\n",
       "      <td>294</td>\n",
       "    </tr>\n",
       "    <tr>\n",
       "      <th>3</th>\n",
       "      <td>I have not supplied proof under the doctrine o...</td>\n",
       "      <td>Attempts to collect debt not owed</td>\n",
       "      <td>3444</td>\n",
       "    </tr>\n",
       "    <tr>\n",
       "      <th>4</th>\n",
       "      <td>Hello i'm writing regarding account on my cred...</td>\n",
       "      <td>Incorrect information on your report</td>\n",
       "      <td>876</td>\n",
       "    </tr>\n",
       "  </tbody>\n",
       "</table>\n",
       "</div>"
      ],
      "text/plain": [
       "                                 complaint_narrative  \\\n",
       "0  My name is XXXX XXXX this complaint is not mad...   \n",
       "1  I searched on XXXX for XXXXXXXX XXXX  and was ...   \n",
       "2  I have a particular account that is stating th...   \n",
       "3  I have not supplied proof under the doctrine o...   \n",
       "4  Hello i'm writing regarding account on my cred...   \n",
       "\n",
       "                                  issue  complaint_length  \n",
       "0  Incorrect information on your report               711  \n",
       "1                         Fraud or scam              1958  \n",
       "2  Incorrect information on your report               294  \n",
       "3     Attempts to collect debt not owed              3444  \n",
       "4  Incorrect information on your report               876  "
      ]
     },
     "execution_count": 4,
     "metadata": {},
     "output_type": "execute_result"
    }
   ],
   "source": [
    "complaints.head()"
   ]
  },
  {
   "attachments": {},
   "cell_type": "markdown",
   "id": "cc5c9833",
   "metadata": {},
   "source": [
    "It appears that the data has several entries redacted due to personally idenfiyiable information.  We will write a function to remove cases of text redaction."
   ]
  },
  {
   "cell_type": "code",
   "execution_count": 5,
   "id": "63e6f0e9",
   "metadata": {},
   "outputs": [
    {
     "data": {
      "text/plain": [
       "0         My name is XXXX XXXX this complaint is not mad...\n",
       "1         I searched on XXXX for XXXXXXXX XXXX  and was ...\n",
       "2         I have a particular account that is stating th...\n",
       "3         I have not supplied proof under the doctrine o...\n",
       "4         Hello i'm writing regarding account on my cred...\n",
       "                                ...                        \n",
       "353427           Collections account I have no knowledge of\n",
       "353428    Dear CFPB Team, The reason for my complaint is...\n",
       "353429    FRCA violations : Failing to Follow Debt Dispu...\n",
       "353430    My Father, a XXXX XXXX  acquired an HECM rever...\n",
       "353431    I have tried to contact cash app about a fraud...\n",
       "Name: complaint_narrative, Length: 353432, dtype: object"
      ]
     },
     "execution_count": 5,
     "metadata": {},
     "output_type": "execute_result"
    }
   ],
   "source": [
    "# Explore some data from the narratives column.\n",
    "#there appears to be multiple areas where data is redacted.\n",
    "complaints['complaint_narrative']"
   ]
  },
  {
   "cell_type": "code",
   "execution_count": 6,
   "id": "38a0ee69",
   "metadata": {},
   "outputs": [
    {
     "name": "stdout",
     "output_type": "stream",
     "text": [
      "I just reviewed a copy of my Experian credit report and found the following information to be an error. I am a victim of identity theft and did not make these charges. I reported the theft of my identity to the Federal Trade Commission.\n",
      "-----------------------------\n",
      "after my legal separation from my husband he started to open credit in my name with no permission I have a legal case against him but can not find him he has ruined my life his name is XXXX XXXX XXXX   remove I have disputed by mail with all three credit bureaus. act # XXXX owing an alleged {$2200.00} XXXX   XXXX  orig creditor XXXX\n",
      "-----------------------------\n",
      "Equifax report a collections account \" XXXX XXXX XXXX ''. I have no knowledge of this account. I have not been furnished any proof or verifications of this account. I don't have any signed contract agreements with XXXX XXXX XXXX, verbal agreements nor any paperwork associated with them. A proper investigation according to FCRA was not conducted, word of mouth from the creditor is not proper. I request a legal and legitimate investigation be conducted and concrete proof of account.\n",
      "-----------------------------\n"
     ]
    }
   ],
   "source": [
    "# Looking at some narratives inside the \"Incorrect information\" complaint.\n",
    "seed = 123\n",
    "for complaint in complaints.loc[complaints['issue'] == 'Incorrect information on your report', 'complaint_narrative'].sample(3, random_state=seed):\n",
    "    print(complaint)\n",
    "    print('-----------------------------')"
   ]
  },
  {
   "cell_type": "code",
   "execution_count": 7,
   "id": "e04410d6",
   "metadata": {},
   "outputs": [
    {
     "data": {
      "text/html": [
       "<div>\n",
       "<style scoped>\n",
       "    .dataframe tbody tr th:only-of-type {\n",
       "        vertical-align: middle;\n",
       "    }\n",
       "\n",
       "    .dataframe tbody tr th {\n",
       "        vertical-align: top;\n",
       "    }\n",
       "\n",
       "    .dataframe thead th {\n",
       "        text-align: right;\n",
       "    }\n",
       "</style>\n",
       "<table border=\"1\" class=\"dataframe\">\n",
       "  <thead>\n",
       "    <tr style=\"text-align: right;\">\n",
       "      <th></th>\n",
       "      <th></th>\n",
       "      <th>0</th>\n",
       "      <th>count</th>\n",
       "    </tr>\n",
       "    <tr>\n",
       "      <th>issue</th>\n",
       "      <th></th>\n",
       "      <th></th>\n",
       "      <th></th>\n",
       "    </tr>\n",
       "  </thead>\n",
       "  <tbody>\n",
       "    <tr>\n",
       "      <th rowspan=\"5\" valign=\"top\">Attempts to collect debt not owed</th>\n",
       "      <th>0</th>\n",
       "      <td>AMERICANEXPRESS</td>\n",
       "      <td>2</td>\n",
       "    </tr>\n",
       "    <tr>\n",
       "      <th>1</th>\n",
       "      <td>ANXIETY</td>\n",
       "      <td>1</td>\n",
       "    </tr>\n",
       "    <tr>\n",
       "      <th>2</th>\n",
       "      <td>APPROXIMATELY</td>\n",
       "      <td>3</td>\n",
       "    </tr>\n",
       "    <tr>\n",
       "      <th>3</th>\n",
       "      <td>AXCESS</td>\n",
       "      <td>1</td>\n",
       "    </tr>\n",
       "    <tr>\n",
       "      <th>4</th>\n",
       "      <td>AXCSSFN</td>\n",
       "      <td>6</td>\n",
       "    </tr>\n",
       "    <tr>\n",
       "      <th>...</th>\n",
       "      <th>...</th>\n",
       "      <td>...</td>\n",
       "      <td>...</td>\n",
       "    </tr>\n",
       "    <tr>\n",
       "      <th rowspan=\"5\" valign=\"top\">Struggling to pay mortgage</th>\n",
       "      <th>131</th>\n",
       "      <td>TOXIC</td>\n",
       "      <td>5</td>\n",
       "    </tr>\n",
       "    <tr>\n",
       "      <th>132</th>\n",
       "      <td>TXHAF</td>\n",
       "      <td>11</td>\n",
       "    </tr>\n",
       "    <tr>\n",
       "      <th>133</th>\n",
       "      <td>UNEXCUSABLE</td>\n",
       "      <td>1</td>\n",
       "    </tr>\n",
       "    <tr>\n",
       "      <th>134</th>\n",
       "      <td>UNEXPLAINED</td>\n",
       "      <td>1</td>\n",
       "    </tr>\n",
       "    <tr>\n",
       "      <th>135</th>\n",
       "      <td>eXPlain</td>\n",
       "      <td>1</td>\n",
       "    </tr>\n",
       "  </tbody>\n",
       "</table>\n",
       "<p>725 rows × 2 columns</p>\n",
       "</div>"
      ],
      "text/plain": [
       "                                                     0  count\n",
       "issue                                                        \n",
       "Attempts to collect debt not owed 0    AMERICANEXPRESS      2\n",
       "                                  1            ANXIETY      1\n",
       "                                  2      APPROXIMATELY      3\n",
       "                                  3             AXCESS      1\n",
       "                                  4            AXCSSFN      6\n",
       "...                                                ...    ...\n",
       "Struggling to pay mortgage        131            TOXIC      5\n",
       "                                  132            TXHAF     11\n",
       "                                  133      UNEXCUSABLE      1\n",
       "                                  134      UNEXPLAINED      1\n",
       "                                  135          eXPlain      1\n",
       "\n",
       "[725 rows x 2 columns]"
      ]
     },
     "execution_count": 7,
     "metadata": {},
     "output_type": "execute_result"
    }
   ],
   "source": [
    "# replacing strings in narrative to remove consecutive x's\n",
    "complaints['complaint_narrative'] = complaints['complaint_narrative'].str.replace(r'[xX][xX]+','', regex=True)\n",
    "\n",
    "# stripping all numeric values from complaints\n",
    "complaints['complaint_narrative'] = complaints['complaint_narrative'].str.replace('\\d+', '', regex=True)\n",
    "\n",
    "#Looking at cleaned output that has occurence of only one \"x\"\n",
    "complaints.groupby('issue')['complaint_narrative'].apply(lambda x: x.str.extractall(r'(\\w+X+\\w+)').groupby(0).size().reset_index(name='count'))"
   ]
  },
  {
   "attachments": {},
   "cell_type": "markdown",
   "id": "4dd63c09",
   "metadata": {},
   "source": [
    "I will encode the categores to numeric values for the purpose of analysis."
   ]
  },
  {
   "cell_type": "code",
   "execution_count": 8,
   "id": "627047b0",
   "metadata": {},
   "outputs": [
    {
     "data": {
      "text/html": [
       "<div>\n",
       "<style scoped>\n",
       "    .dataframe tbody tr th:only-of-type {\n",
       "        vertical-align: middle;\n",
       "    }\n",
       "\n",
       "    .dataframe tbody tr th {\n",
       "        vertical-align: top;\n",
       "    }\n",
       "\n",
       "    .dataframe thead th {\n",
       "        text-align: right;\n",
       "    }\n",
       "</style>\n",
       "<table border=\"1\" class=\"dataframe\">\n",
       "  <thead>\n",
       "    <tr style=\"text-align: right;\">\n",
       "      <th></th>\n",
       "      <th>complaint_narrative</th>\n",
       "      <th>issue</th>\n",
       "      <th>complaint_length</th>\n",
       "    </tr>\n",
       "  </thead>\n",
       "  <tbody>\n",
       "    <tr>\n",
       "      <th>0</th>\n",
       "      <td>My name is   this complaint is not made in err...</td>\n",
       "      <td>4</td>\n",
       "      <td>711</td>\n",
       "    </tr>\n",
       "    <tr>\n",
       "      <th>1</th>\n",
       "      <td>I searched on  for    and was pointed to a web...</td>\n",
       "      <td>3</td>\n",
       "      <td>1958</td>\n",
       "    </tr>\n",
       "    <tr>\n",
       "      <th>2</th>\n",
       "      <td>I have a particular account that is stating th...</td>\n",
       "      <td>4</td>\n",
       "      <td>294</td>\n",
       "    </tr>\n",
       "    <tr>\n",
       "      <th>3</th>\n",
       "      <td>I have not supplied proof under the doctrine o...</td>\n",
       "      <td>1</td>\n",
       "      <td>3444</td>\n",
       "    </tr>\n",
       "    <tr>\n",
       "      <th>4</th>\n",
       "      <td>Hello i'm writing regarding account on my cred...</td>\n",
       "      <td>4</td>\n",
       "      <td>876</td>\n",
       "    </tr>\n",
       "  </tbody>\n",
       "</table>\n",
       "</div>"
      ],
      "text/plain": [
       "                                 complaint_narrative  issue  complaint_length\n",
       "0  My name is   this complaint is not made in err...      4               711\n",
       "1  I searched on  for    and was pointed to a web...      3              1958\n",
       "2  I have a particular account that is stating th...      4               294\n",
       "3  I have not supplied proof under the doctrine o...      1              3444\n",
       "4  Hello i'm writing regarding account on my cred...      4               876"
      ]
     },
     "execution_count": 8,
     "metadata": {},
     "output_type": "execute_result"
    }
   ],
   "source": [
    "# Use mapping dictionary to convert columns to numerical values\n",
    "issue_mapping = {'Attempts to collect debt not owed': 1, \n",
    "                 'Communication tactics': 2, \n",
    "                 'Fraud or scam': 3, \n",
    "                 'Incorrect information on your report': 4,\n",
    "                 'Struggling to pay mortgage': 5}\n",
    "# replace the issue values with numerical values\n",
    "complaints['issue'] = complaints['issue'].replace(issue_mapping)\n",
    "complaints.head(n=5)"
   ]
  },
  {
   "attachments": {},
   "cell_type": "markdown",
   "id": "cce53a20",
   "metadata": {},
   "source": [
    "> Naive Bayes Using the Text Field"
   ]
  },
  {
   "attachments": {},
   "cell_type": "markdown",
   "id": "644cca12",
   "metadata": {},
   "source": [
    "Applying stopwords to complaints narratives.\n"
   ]
  },
  {
   "cell_type": "code",
   "execution_count": 10,
   "id": "f7eba0c4",
   "metadata": {},
   "outputs": [
    {
     "ename": "AttributeError",
     "evalue": "'list' object has no attribute 'split'",
     "output_type": "error",
     "traceback": [
      "\u001b[0;31m---------------------------------------------------------------------------\u001b[0m",
      "\u001b[0;31mAttributeError\u001b[0m                            Traceback (most recent call last)",
      "Cell \u001b[0;32mIn[10], line 5\u001b[0m\n\u001b[1;32m      2\u001b[0m stop_words \u001b[39m=\u001b[39m stop_words \u001b[39m=\u001b[39m \u001b[39mset\u001b[39m(stopwords\u001b[39m.\u001b[39mwords(\u001b[39m'\u001b[39m\u001b[39menglish\u001b[39m\u001b[39m'\u001b[39m))\n\u001b[1;32m      4\u001b[0m \u001b[39m# apply stopword removal to the 'complaint_narrative' column\u001b[39;00m\n\u001b[0;32m----> 5\u001b[0m complaints[\u001b[39m'\u001b[39m\u001b[39mcomplaint_narrative_tokens\u001b[39m\u001b[39m'\u001b[39m] \u001b[39m=\u001b[39m complaints[\u001b[39m'\u001b[39;49m\u001b[39mcomplaint_narrative_tokens\u001b[39;49m\u001b[39m'\u001b[39;49m]\u001b[39m.\u001b[39;49mapply(\u001b[39mlambda\u001b[39;49;00m x: \u001b[39m'\u001b[39;49m\u001b[39m \u001b[39;49m\u001b[39m'\u001b[39;49m\u001b[39m.\u001b[39;49mjoin([word \u001b[39mfor\u001b[39;49;00m word \u001b[39min\u001b[39;49;00m x\u001b[39m.\u001b[39;49msplit() \u001b[39mif\u001b[39;49;00m word\u001b[39m.\u001b[39;49mlower() \u001b[39mnot\u001b[39;49;00m \u001b[39min\u001b[39;49;00m stop_words]))\n",
      "File \u001b[0;32m~/anaconda3/lib/python3.9/site-packages/pandas/core/series.py:4771\u001b[0m, in \u001b[0;36mSeries.apply\u001b[0;34m(self, func, convert_dtype, args, **kwargs)\u001b[0m\n\u001b[1;32m   4661\u001b[0m \u001b[39mdef\u001b[39;00m \u001b[39mapply\u001b[39m(\n\u001b[1;32m   4662\u001b[0m     \u001b[39mself\u001b[39m,\n\u001b[1;32m   4663\u001b[0m     func: AggFuncType,\n\u001b[0;32m   (...)\u001b[0m\n\u001b[1;32m   4666\u001b[0m     \u001b[39m*\u001b[39m\u001b[39m*\u001b[39mkwargs,\n\u001b[1;32m   4667\u001b[0m ) \u001b[39m-\u001b[39m\u001b[39m>\u001b[39m DataFrame \u001b[39m|\u001b[39m Series:\n\u001b[1;32m   4668\u001b[0m     \u001b[39m\"\"\"\u001b[39;00m\n\u001b[1;32m   4669\u001b[0m \u001b[39m    Invoke function on values of Series.\u001b[39;00m\n\u001b[1;32m   4670\u001b[0m \n\u001b[0;32m   (...)\u001b[0m\n\u001b[1;32m   4769\u001b[0m \u001b[39m    dtype: float64\u001b[39;00m\n\u001b[1;32m   4770\u001b[0m \u001b[39m    \"\"\"\u001b[39;00m\n\u001b[0;32m-> 4771\u001b[0m     \u001b[39mreturn\u001b[39;00m SeriesApply(\u001b[39mself\u001b[39;49m, func, convert_dtype, args, kwargs)\u001b[39m.\u001b[39;49mapply()\n",
      "File \u001b[0;32m~/anaconda3/lib/python3.9/site-packages/pandas/core/apply.py:1123\u001b[0m, in \u001b[0;36mSeriesApply.apply\u001b[0;34m(self)\u001b[0m\n\u001b[1;32m   1120\u001b[0m     \u001b[39mreturn\u001b[39;00m \u001b[39mself\u001b[39m\u001b[39m.\u001b[39mapply_str()\n\u001b[1;32m   1122\u001b[0m \u001b[39m# self.f is Callable\u001b[39;00m\n\u001b[0;32m-> 1123\u001b[0m \u001b[39mreturn\u001b[39;00m \u001b[39mself\u001b[39;49m\u001b[39m.\u001b[39;49mapply_standard()\n",
      "File \u001b[0;32m~/anaconda3/lib/python3.9/site-packages/pandas/core/apply.py:1174\u001b[0m, in \u001b[0;36mSeriesApply.apply_standard\u001b[0;34m(self)\u001b[0m\n\u001b[1;32m   1172\u001b[0m     \u001b[39melse\u001b[39;00m:\n\u001b[1;32m   1173\u001b[0m         values \u001b[39m=\u001b[39m obj\u001b[39m.\u001b[39mastype(\u001b[39mobject\u001b[39m)\u001b[39m.\u001b[39m_values\n\u001b[0;32m-> 1174\u001b[0m         mapped \u001b[39m=\u001b[39m lib\u001b[39m.\u001b[39;49mmap_infer(\n\u001b[1;32m   1175\u001b[0m             values,\n\u001b[1;32m   1176\u001b[0m             f,\n\u001b[1;32m   1177\u001b[0m             convert\u001b[39m=\u001b[39;49m\u001b[39mself\u001b[39;49m\u001b[39m.\u001b[39;49mconvert_dtype,\n\u001b[1;32m   1178\u001b[0m         )\n\u001b[1;32m   1180\u001b[0m \u001b[39mif\u001b[39;00m \u001b[39mlen\u001b[39m(mapped) \u001b[39mand\u001b[39;00m \u001b[39misinstance\u001b[39m(mapped[\u001b[39m0\u001b[39m], ABCSeries):\n\u001b[1;32m   1181\u001b[0m     \u001b[39m# GH#43986 Need to do list(mapped) in order to get treated as nested\u001b[39;00m\n\u001b[1;32m   1182\u001b[0m     \u001b[39m#  See also GH#25959 regarding EA support\u001b[39;00m\n\u001b[1;32m   1183\u001b[0m     \u001b[39mreturn\u001b[39;00m obj\u001b[39m.\u001b[39m_constructor_expanddim(\u001b[39mlist\u001b[39m(mapped), index\u001b[39m=\u001b[39mobj\u001b[39m.\u001b[39mindex)\n",
      "File \u001b[0;32m~/anaconda3/lib/python3.9/site-packages/pandas/_libs/lib.pyx:2924\u001b[0m, in \u001b[0;36mpandas._libs.lib.map_infer\u001b[0;34m()\u001b[0m\n",
      "Cell \u001b[0;32mIn[10], line 5\u001b[0m, in \u001b[0;36m<lambda>\u001b[0;34m(x)\u001b[0m\n\u001b[1;32m      2\u001b[0m stop_words \u001b[39m=\u001b[39m stop_words \u001b[39m=\u001b[39m \u001b[39mset\u001b[39m(stopwords\u001b[39m.\u001b[39mwords(\u001b[39m'\u001b[39m\u001b[39menglish\u001b[39m\u001b[39m'\u001b[39m))\n\u001b[1;32m      4\u001b[0m \u001b[39m# apply stopword removal to the 'complaint_narrative' column\u001b[39;00m\n\u001b[0;32m----> 5\u001b[0m complaints[\u001b[39m'\u001b[39m\u001b[39mcomplaint_narrative_tokens\u001b[39m\u001b[39m'\u001b[39m] \u001b[39m=\u001b[39m complaints[\u001b[39m'\u001b[39m\u001b[39mcomplaint_narrative_tokens\u001b[39m\u001b[39m'\u001b[39m]\u001b[39m.\u001b[39mapply(\u001b[39mlambda\u001b[39;00m x: \u001b[39m'\u001b[39m\u001b[39m \u001b[39m\u001b[39m'\u001b[39m\u001b[39m.\u001b[39mjoin([word \u001b[39mfor\u001b[39;00m word \u001b[39min\u001b[39;00m x\u001b[39m.\u001b[39;49msplit() \u001b[39mif\u001b[39;00m word\u001b[39m.\u001b[39mlower() \u001b[39mnot\u001b[39;00m \u001b[39min\u001b[39;00m stop_words]))\n",
      "\u001b[0;31mAttributeError\u001b[0m: 'list' object has no attribute 'split'"
     ]
    }
   ],
   "source": [
    "# define stopwords\n",
    "stop_words = stop_words = set(stopwords.words('english'))\n",
    "\n",
    "# apply stopword removal to the 'complaint_narrative' column\n",
    "complaints['complaint_narrative'] = complaints['complaint_narrative'].apply(lambda x: ' '.join([word for word in x.split() if word.lower() not in stop_words]))"
   ]
  },
  {
   "attachments": {},
   "cell_type": "markdown",
   "id": "4a273cbb",
   "metadata": {},
   "source": [
    "Tokenization of complaint_narrative (Warning: 6 minute runtime)"
   ]
  },
  {
   "cell_type": "code",
   "execution_count": 9,
   "id": "037501a2",
   "metadata": {},
   "outputs": [
    {
     "name": "stderr",
     "output_type": "stream",
     "text": [
      "Tokenizing: 100%|██████████| 353432/353432 [00:00<00:00, 2775460.58it/s]\n"
     ]
    }
   ],
   "source": [
    "# Tokenizing text (Careful! 6 min run time)\n",
    "complaints['complaint_narrative_tokens'] = list(tqdm(complaints['complaint_narrative'].apply(nltk.word_tokenize), desc=\"Tokenizing\"))"
   ]
  },
  {
   "attachments": {},
   "cell_type": "markdown",
   "id": "0a690ec0",
   "metadata": {},
   "source": [
    "Making lowercase and removing special characters"
   ]
  },
  {
   "cell_type": "code",
   "execution_count": null,
   "id": "102f3e9d",
   "metadata": {},
   "outputs": [],
   "source": [
    "# Lowercasing text\n",
    "complaints['complaint_narrative_tokens'] = complaints['complaint_narrative_tokens'].apply(lambda x: x.lower())\n",
    "\n",
    "# Removing punctuation and special characters\n",
    "translator = str.maketrans('', '', string.punctuation)\n",
    "complaints['complaint_narrative_tokens'] = complaints['complaint_narrative_tokens'].apply(lambda x: x.translate(translator))"
   ]
  },
  {
   "attachments": {},
   "cell_type": "markdown",
   "id": "923eaa44",
   "metadata": {},
   "source": [
    "Stemming Text (Warning: 7 Minute run time)"
   ]
  },
  {
   "cell_type": "code",
   "execution_count": null,
   "id": "9b2bc8c9",
   "metadata": {},
   "outputs": [],
   "source": [
    "# Instantiate PorterStemmer\n",
    "stemmer = PorterStemmer()\n",
    "\n",
    "# Apply PorterStemmer to cleaned 'complaint_narrative' column.\n",
    "complaints['complaint_narrative_stemmed'] = complaints['complaint_narrative_tokens'].apply(lambda x: ' '.join([stemmer.stem(word) for word in x.split()]))\n",
    "\n",
    "complaints.head()"
   ]
  },
  {
   "attachments": {},
   "cell_type": "markdown",
   "id": "8be4fdfc",
   "metadata": {},
   "source": [
    "Lemmatizing"
   ]
  },
  {
   "cell_type": "code",
   "execution_count": null,
   "id": "7dffbb88",
   "metadata": {},
   "outputs": [],
   "source": [
    "# Instantiate lemmatizer\n",
    "lemmatizer = WordNetLemmatizer()\n",
    "\n",
    "# Lemmatize tokens\n",
    "complaints['complaint_narrative_lemmatized'] = complaints['complaint_narrative_tokens'].apply(lambda x: ' '.join([lemmatizer.lemmatize(word, pos) for word, pos in pos_tag(word_tokenize(x))]))"
   ]
  },
  {
   "attachments": {},
   "cell_type": "markdown",
   "id": "52537d88",
   "metadata": {},
   "source": [
    "Train Test Split"
   ]
  },
  {
   "cell_type": "code",
   "execution_count": null,
   "id": "778457fc",
   "metadata": {},
   "outputs": [],
   "source": [
    "X = complaints[['complaint_narrative']]\n",
    "y = complaints['issue']\n",
    "\n",
    "X_train, X_test, y_train, y_test = train_test_split( X, y, random_state = 321, stratify = y)"
   ]
  },
  {
   "attachments": {},
   "cell_type": "markdown",
   "id": "6832395a",
   "metadata": {},
   "source": [
    "Count Vectorizer"
   ]
  },
  {
   "cell_type": "code",
   "execution_count": null,
   "id": "6ac38b51",
   "metadata": {},
   "outputs": [],
   "source": [
    "#Fill in the code to fit and transform a CountVectorizer (using all defaults) on the text column of X_train and X_test\n",
    "vect = CountVectorizer()\n",
    "\n",
    "#Fit \n",
    "X_train_vec = vect.fit_transform(X_train[\"complaint_narrative\"])\n",
    "X_test_vec = vect.transform(X_test[\"complaint_narrative\"]) "
   ]
  },
  {
   "attachments": {},
   "cell_type": "markdown",
   "id": "1599f99b",
   "metadata": {},
   "source": [
    "look at the vocabulary"
   ]
  },
  {
   "cell_type": "code",
   "execution_count": null,
   "id": "b0771225",
   "metadata": {},
   "outputs": [],
   "source": [
    "vect.vocabulary_"
   ]
  },
  {
   "cell_type": "code",
   "execution_count": null,
   "id": "f4b5e517",
   "metadata": {},
   "outputs": [],
   "source": []
  }
 ],
 "metadata": {
  "kernelspec": {
   "display_name": "Python 3 (ipykernel)",
   "language": "python",
   "name": "python3"
  },
  "language_info": {
   "codemirror_mode": {
    "name": "ipython",
    "version": 3
   },
   "file_extension": ".py",
   "mimetype": "text/x-python",
   "name": "python",
   "nbconvert_exporter": "python",
   "pygments_lexer": "ipython3",
   "version": "3.9.16"
  }
 },
 "nbformat": 4,
 "nbformat_minor": 5
}
