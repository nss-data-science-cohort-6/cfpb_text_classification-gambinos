{
 "cells": [
  {
   "cell_type": "code",
   "execution_count": 3,
   "id": "297cebf4-71a4-4171-8edd-b753d9c3d22d",
   "metadata": {},
   "outputs": [],
   "source": [
    "import pandas as pd\n",
    "import nltk\n",
    "from nltk import pos_tag, word_tokenize\n",
    "from nltk.stem import PorterStemmer, WordNetLemmatizer\n",
    "from nltk.corpus import stopwords\n",
    "from sklearn.model_selection import train_test_split\n",
    "from sklearn.feature_extraction.text import CountVectorizer\n",
    "import numpy as np\n",
    "import string\n",
    "from tqdm import tqdm\n",
    "from spellchecker import SpellChecker"
   ]
  },
  {
   "attachments": {},
   "cell_type": "markdown",
   "id": "3d097048-4f6c-499f-91e3-eefcd5aca554",
   "metadata": {},
   "source": [
    "You have been provided with a dataset of over 350,000 such complaints for 5 common issue types. \n",
    "\n",
    "> Your goal is to *train* a **text classification** model to **identify** the **issue type** based on the consumer **complaint narrative**."
   ]
  },
  {
   "attachments": {},
   "cell_type": "markdown",
   "id": "9cc1617d",
   "metadata": {},
   "source": [
    "## Data Loading"
   ]
  },
  {
   "cell_type": "code",
   "execution_count": 4,
   "id": "03ea5fbe-334f-4455-971d-21586df4fc49",
   "metadata": {},
   "outputs": [
    {
     "data": {
      "text/plain": [
       "Incorrect information on your report    229305\n",
       "Attempts to collect debt not owed        73163\n",
       "Communication tactics                    21243\n",
       "Struggling to pay mortgage               17374\n",
       "Fraud or scam                            12347\n",
       "Name: issue, dtype: int64"
      ]
     },
     "execution_count": 4,
     "metadata": {},
     "output_type": "execute_result"
    }
   ],
   "source": [
    "# Read in data\n",
    "complaints = pd.read_csv('../data/complaints.csv')\n",
    "\n",
    "# Standardized column naming\n",
    "complaints.columns = [x.replace('Consumer ', '').lower().replace(' ', '_') for x in complaints.columns]\n",
    "complaints['complaint_length'] = complaints['complaint_narrative'].apply(len)\n",
    "\n",
    "# Explore the count of unique complaints for each issue.\n",
    "complaints['issue'].value_counts()"
   ]
  },
  {
   "attachments": {},
   "cell_type": "markdown",
   "id": "cc5c9833",
   "metadata": {},
   "source": [
    "It appears that the data has several entries redacted due to personally idenfiyiable information.  We will write a function to remove cases of text redaction."
   ]
  },
  {
   "cell_type": "code",
   "execution_count": 5,
   "id": "0adbd6f7",
   "metadata": {},
   "outputs": [
    {
     "data": {
      "text/html": [
       "<div>\n",
       "<style scoped>\n",
       "    .dataframe tbody tr th:only-of-type {\n",
       "        vertical-align: middle;\n",
       "    }\n",
       "\n",
       "    .dataframe tbody tr th {\n",
       "        vertical-align: top;\n",
       "    }\n",
       "\n",
       "    .dataframe thead th {\n",
       "        text-align: right;\n",
       "    }\n",
       "</style>\n",
       "<table border=\"1\" class=\"dataframe\">\n",
       "  <thead>\n",
       "    <tr style=\"text-align: right;\">\n",
       "      <th></th>\n",
       "      <th>complaint_narrative</th>\n",
       "      <th>issue</th>\n",
       "      <th>complaint_length</th>\n",
       "    </tr>\n",
       "  </thead>\n",
       "  <tbody>\n",
       "    <tr>\n",
       "      <th>0</th>\n",
       "      <td>My name is XXXX XXXX this complaint is not mad...</td>\n",
       "      <td>Incorrect information on your report</td>\n",
       "      <td>711</td>\n",
       "    </tr>\n",
       "    <tr>\n",
       "      <th>1</th>\n",
       "      <td>I searched on XXXX for XXXXXXXX XXXX  and was ...</td>\n",
       "      <td>Fraud or scam</td>\n",
       "      <td>1958</td>\n",
       "    </tr>\n",
       "    <tr>\n",
       "      <th>2</th>\n",
       "      <td>I have a particular account that is stating th...</td>\n",
       "      <td>Incorrect information on your report</td>\n",
       "      <td>294</td>\n",
       "    </tr>\n",
       "    <tr>\n",
       "      <th>3</th>\n",
       "      <td>I have not supplied proof under the doctrine o...</td>\n",
       "      <td>Attempts to collect debt not owed</td>\n",
       "      <td>3444</td>\n",
       "    </tr>\n",
       "    <tr>\n",
       "      <th>4</th>\n",
       "      <td>Hello i'm writing regarding account on my cred...</td>\n",
       "      <td>Incorrect information on your report</td>\n",
       "      <td>876</td>\n",
       "    </tr>\n",
       "  </tbody>\n",
       "</table>\n",
       "</div>"
      ],
      "text/plain": [
       "                                 complaint_narrative  \\\n",
       "0  My name is XXXX XXXX this complaint is not mad...   \n",
       "1  I searched on XXXX for XXXXXXXX XXXX  and was ...   \n",
       "2  I have a particular account that is stating th...   \n",
       "3  I have not supplied proof under the doctrine o...   \n",
       "4  Hello i'm writing regarding account on my cred...   \n",
       "\n",
       "                                  issue  complaint_length  \n",
       "0  Incorrect information on your report               711  \n",
       "1                         Fraud or scam              1958  \n",
       "2  Incorrect information on your report               294  \n",
       "3     Attempts to collect debt not owed              3444  \n",
       "4  Incorrect information on your report               876  "
      ]
     },
     "execution_count": 5,
     "metadata": {},
     "output_type": "execute_result"
    }
   ],
   "source": [
    "complaints.head()"
   ]
  },
  {
   "cell_type": "markdown",
   "id": "63e6f0e9",
   "metadata": {},
   "source": [
    "Explore some data from the narratives column.\n"
   ]
  },
  {
   "cell_type": "code",
   "execution_count": 6,
   "id": "10c17955",
   "metadata": {},
   "outputs": [
    {
     "data": {
      "text/plain": [
       "0         My name is XXXX XXXX this complaint is not mad...\n",
       "1         I searched on XXXX for XXXXXXXX XXXX  and was ...\n",
       "2         I have a particular account that is stating th...\n",
       "3         I have not supplied proof under the doctrine o...\n",
       "4         Hello i'm writing regarding account on my cred...\n",
       "                                ...                        \n",
       "353427           Collections account I have no knowledge of\n",
       "353428    Dear CFPB Team, The reason for my complaint is...\n",
       "353429    FRCA violations : Failing to Follow Debt Dispu...\n",
       "353430    My Father, a XXXX XXXX  acquired an HECM rever...\n",
       "353431    I have tried to contact cash app about a fraud...\n",
       "Name: complaint_narrative, Length: 353432, dtype: object"
      ]
     },
     "execution_count": 6,
     "metadata": {},
     "output_type": "execute_result"
    }
   ],
   "source": [
    "#there appears to be multiple areas where data is redacted.\n",
    "complaints['complaint_narrative']"
   ]
  },
  {
   "cell_type": "code",
   "execution_count": 7,
   "id": "38a0ee69",
   "metadata": {},
   "outputs": [
    {
     "name": "stdout",
     "output_type": "stream",
     "text": [
      "I just reviewed a copy of my Experian credit report and found the following information to be an error. I am a victim of identity theft and did not make these charges. I reported the theft of my identity to the Federal Trade Commission.\n",
      "-----------------------------\n",
      "after my legal separation from my husband he started to open credit in my name with no permission I have a legal case against him but can not find him he has ruined my life his name is XXXX XXXX XXXX   remove I have disputed by mail with all three credit bureaus. act # XXXX owing an alleged {$2200.00} XXXX   XXXX  orig creditor XXXX\n",
      "-----------------------------\n",
      "Equifax report a collections account \" XXXX XXXX XXXX ''. I have no knowledge of this account. I have not been furnished any proof or verifications of this account. I don't have any signed contract agreements with XXXX XXXX XXXX, verbal agreements nor any paperwork associated with them. A proper investigation according to FCRA was not conducted, word of mouth from the creditor is not proper. I request a legal and legitimate investigation be conducted and concrete proof of account.\n",
      "-----------------------------\n"
     ]
    }
   ],
   "source": [
    "# Looking at some narratives inside the \"Incorrect information\" complaint.\n",
    "seed = 123\n",
    "for complaint in complaints.loc[complaints['issue'] == 'Incorrect information on your report', 'complaint_narrative'].sample(3, random_state=seed):\n",
    "    print(complaint)\n",
    "    print('-----------------------------')"
   ]
  },
  {
   "attachments": {},
   "cell_type": "markdown",
   "id": "c55a19c7",
   "metadata": {},
   "source": [
    "Encode \"issues\" as numerical values"
   ]
  },
  {
   "cell_type": "code",
   "execution_count": 8,
   "id": "267f0b17",
   "metadata": {},
   "outputs": [
    {
     "data": {
      "text/html": [
       "<div>\n",
       "<style scoped>\n",
       "    .dataframe tbody tr th:only-of-type {\n",
       "        vertical-align: middle;\n",
       "    }\n",
       "\n",
       "    .dataframe tbody tr th {\n",
       "        vertical-align: top;\n",
       "    }\n",
       "\n",
       "    .dataframe thead th {\n",
       "        text-align: right;\n",
       "    }\n",
       "</style>\n",
       "<table border=\"1\" class=\"dataframe\">\n",
       "  <thead>\n",
       "    <tr style=\"text-align: right;\">\n",
       "      <th></th>\n",
       "      <th>complaint_narrative</th>\n",
       "      <th>issue</th>\n",
       "      <th>complaint_length</th>\n",
       "    </tr>\n",
       "  </thead>\n",
       "  <tbody>\n",
       "    <tr>\n",
       "      <th>0</th>\n",
       "      <td>My name is XXXX XXXX this complaint is not mad...</td>\n",
       "      <td>4</td>\n",
       "      <td>711</td>\n",
       "    </tr>\n",
       "    <tr>\n",
       "      <th>1</th>\n",
       "      <td>I searched on XXXX for XXXXXXXX XXXX  and was ...</td>\n",
       "      <td>3</td>\n",
       "      <td>1958</td>\n",
       "    </tr>\n",
       "    <tr>\n",
       "      <th>2</th>\n",
       "      <td>I have a particular account that is stating th...</td>\n",
       "      <td>4</td>\n",
       "      <td>294</td>\n",
       "    </tr>\n",
       "    <tr>\n",
       "      <th>3</th>\n",
       "      <td>I have not supplied proof under the doctrine o...</td>\n",
       "      <td>1</td>\n",
       "      <td>3444</td>\n",
       "    </tr>\n",
       "    <tr>\n",
       "      <th>4</th>\n",
       "      <td>Hello i'm writing regarding account on my cred...</td>\n",
       "      <td>4</td>\n",
       "      <td>876</td>\n",
       "    </tr>\n",
       "  </tbody>\n",
       "</table>\n",
       "</div>"
      ],
      "text/plain": [
       "                                 complaint_narrative  issue  complaint_length\n",
       "0  My name is XXXX XXXX this complaint is not mad...      4               711\n",
       "1  I searched on XXXX for XXXXXXXX XXXX  and was ...      3              1958\n",
       "2  I have a particular account that is stating th...      4               294\n",
       "3  I have not supplied proof under the doctrine o...      1              3444\n",
       "4  Hello i'm writing regarding account on my cred...      4               876"
      ]
     },
     "execution_count": 8,
     "metadata": {},
     "output_type": "execute_result"
    }
   ],
   "source": [
    "# Issue mapping dictionary to apply to columns to encode as numerical values\n",
    "issue_mapping = {'Attempts to collect debt not owed': 1, \n",
    "                 'Communication tactics': 2, \n",
    "                 'Fraud or scam': 3, \n",
    "                 'Incorrect information on your report': 4,\n",
    "                 'Struggling to pay mortgage': 5}\n",
    "\n",
    "# replace the issue values with numerical values\n",
    "complaints['issue'] = complaints['issue'].replace(issue_mapping)\n",
    "complaints.head(n=5)"
   ]
  },
  {
   "attachments": {},
   "cell_type": "markdown",
   "id": "7b8c3c54",
   "metadata": {},
   "source": [
    "## Text Cleaning"
   ]
  },
  {
   "attachments": {},
   "cell_type": "markdown",
   "id": "54a740e9",
   "metadata": {},
   "source": [
    "### Cleaning complaints_narrative"
   ]
  },
  {
   "cell_type": "code",
   "execution_count": 9,
   "id": "e04410d6",
   "metadata": {},
   "outputs": [],
   "source": [
    "# Replacing strings in narrative to remove consecutive x's\n",
    "complaints['complaint_narrative'] = complaints['complaint_narrative'].str.replace(r'[xX][xX]+','', regex=True)\n",
    "\n",
    "# Stripping all numeric values from complaints\n",
    "complaints['complaint_narrative'] = complaints['complaint_narrative'].str.replace('\\d+', '', regex=True)\n",
    "\n",
    "# Lowercasing text\n",
    "complaints['complaint_narrative'] = complaints['complaint_narrative'].apply(lambda x: x.lower())\n",
    "\n",
    "# Removing punctuation and special characters\n",
    "translator = str.maketrans('', '', string.punctuation)\n",
    "complaints['complaint_narrative'] = complaints['complaint_narrative'].apply(lambda x: x.translate(translator))"
   ]
  },
  {
   "attachments": {},
   "cell_type": "markdown",
   "id": "644cca12",
   "metadata": {},
   "source": [
    "### Applying stopword removal to complaints narratives."
   ]
  },
  {
   "cell_type": "code",
   "execution_count": 10,
   "id": "f7eba0c4",
   "metadata": {},
   "outputs": [],
   "source": [
    "# define stopwords\n",
    "stop_words = set(stopwords.words('english'))\n",
    "\n",
    "# apply stopword removal to the 'complaint_narrative' column\n",
    "complaints['complaint_narrative'] = complaints['complaint_narrative'].apply(lambda x: ' '.join([word for word in x.split() if word.lower() not in stop_words]))"
   ]
  },
  {
   "attachments": {},
   "cell_type": "markdown",
   "id": "4a273cbb",
   "metadata": {},
   "source": [
    "### Tokenization of complaint_narrative (Warning: 6 minute runtime)"
   ]
  },
  {
   "cell_type": "code",
   "execution_count": 12,
   "id": "037501a2",
   "metadata": {},
   "outputs": [
    {
     "name": "stderr",
     "output_type": "stream",
     "text": [
      "Tokenizing: 100%|██████████| 353432/353432 [00:00<00:00, 2736830.03it/s]\n"
     ]
    }
   ],
   "source": [
    "# Tokenizing text (Careful! 6 min run time)\n",
    "complaints['tokens'] = list(tqdm(complaints['complaint_narrative'].apply(nltk.word_tokenize), desc=\"Tokenizing\"))"
   ]
  },
  {
   "attachments": {},
   "cell_type": "markdown",
   "id": "923eaa44",
   "metadata": {},
   "source": [
    "### Stemming Text (Warning: 8 Minute run time)"
   ]
  },
  {
   "cell_type": "code",
   "execution_count": 10,
   "id": "9b2bc8c9",
   "metadata": {},
   "outputs": [
    {
     "name": "stderr",
     "output_type": "stream",
     "text": [
      "Stemming: 100%|██████████| 353432/353432 [00:00<00:00, 2786400.43it/s]\n"
     ]
    }
   ],
   "source": [
    "# Instantiate the PorterStemmer\n",
    "stemmer = PorterStemmer()\n",
    "\n",
    "# Stemming on the existing 'tokens' column and create a new 'stemmed_tokens' column\n",
    "complaints['stems'] = list(tqdm(complaints['tokens'].apply(lambda x: [stemmer.stem(token) for token in x]), desc=\"Stemming\"))"
   ]
  },
  {
   "attachments": {},
   "cell_type": "markdown",
   "id": "8be4fdfc",
   "metadata": {},
   "source": [
    "### Lemmatizing Text"
   ]
  },
  {
   "cell_type": "code",
   "execution_count": 11,
   "id": "7dffbb88",
   "metadata": {},
   "outputs": [
    {
     "name": "stderr",
     "output_type": "stream",
     "text": [
      "Lemmatizing: 100%|██████████| 353432/353432 [00:00<00:00, 2952878.78it/s]\n"
     ]
    }
   ],
   "source": [
    "# Instantiate lemmatizer\n",
    "lemmatizer = WordNetLemmatizer()\n",
    "\n",
    "# Lemmatize tokens\n",
    "complaints['lemmas'] = list(tqdm(complaints['tokens'].apply(lambda x:[lemmatizer.lemmatize(word) for word in x]), desc=\"Lemmatizing\"))"
   ]
  },
  {
   "cell_type": "code",
   "execution_count": 12,
   "id": "3fefdbdb",
   "metadata": {},
   "outputs": [
    {
     "data": {
      "text/html": [
       "<div>\n",
       "<style scoped>\n",
       "    .dataframe tbody tr th:only-of-type {\n",
       "        vertical-align: middle;\n",
       "    }\n",
       "\n",
       "    .dataframe tbody tr th {\n",
       "        vertical-align: top;\n",
       "    }\n",
       "\n",
       "    .dataframe thead th {\n",
       "        text-align: right;\n",
       "    }\n",
       "</style>\n",
       "<table border=\"1\" class=\"dataframe\">\n",
       "  <thead>\n",
       "    <tr style=\"text-align: right;\">\n",
       "      <th></th>\n",
       "      <th>complaint_narrative</th>\n",
       "      <th>issue</th>\n",
       "      <th>complaint_length</th>\n",
       "      <th>tokens</th>\n",
       "      <th>stems</th>\n",
       "      <th>lemmas</th>\n",
       "    </tr>\n",
       "  </thead>\n",
       "  <tbody>\n",
       "    <tr>\n",
       "      <th>0</th>\n",
       "      <td>name complaint made error neither made third p...</td>\n",
       "      <td>4</td>\n",
       "      <td>711</td>\n",
       "      <td>[name, complaint, made, error, neither, made, ...</td>\n",
       "      <td>[name, complaint, made, error, neither, made, ...</td>\n",
       "      <td>[name, complaint, made, error, neither, made, ...</td>\n",
       "    </tr>\n",
       "    <tr>\n",
       "      <th>1</th>\n",
       "      <td>searched pointed website legitimately believed...</td>\n",
       "      <td>3</td>\n",
       "      <td>1958</td>\n",
       "      <td>[searched, pointed, website, legitimately, bel...</td>\n",
       "      <td>[search, point, websit, legitim, believ, websi...</td>\n",
       "      <td>[searched, pointed, website, legitimately, bel...</td>\n",
       "    </tr>\n",
       "  </tbody>\n",
       "</table>\n",
       "</div>"
      ],
      "text/plain": [
       "                                 complaint_narrative  issue  complaint_length  \\\n",
       "0  name complaint made error neither made third p...      4               711   \n",
       "1  searched pointed website legitimately believed...      3              1958   \n",
       "\n",
       "                                              tokens  \\\n",
       "0  [name, complaint, made, error, neither, made, ...   \n",
       "1  [searched, pointed, website, legitimately, bel...   \n",
       "\n",
       "                                               stems  \\\n",
       "0  [name, complaint, made, error, neither, made, ...   \n",
       "1  [search, point, websit, legitim, believ, websi...   \n",
       "\n",
       "                                              lemmas  \n",
       "0  [name, complaint, made, error, neither, made, ...  \n",
       "1  [searched, pointed, website, legitimately, bel...  "
      ]
     },
     "execution_count": 12,
     "metadata": {},
     "output_type": "execute_result"
    }
   ],
   "source": [
    "complaints.head(n=2)"
   ]
  },
  {
   "attachments": {},
   "cell_type": "markdown",
   "id": "b5d2687e",
   "metadata": {},
   "source": [
    "### Bread and Butter 🥒🫙"
   ]
  },
  {
   "cell_type": "code",
   "execution_count": null,
   "id": "7763deb0",
   "metadata": {},
   "outputs": [],
   "source": [
    "# Drop the \"complaints_narrative\" column\n",
    "complaints = complaints.drop('complaint_narrative', axis=1)\n",
    "\n",
    "# Path and filename for the output .pkl file\n",
    "canning = '../data/complaints_nlp.pkl'\n",
    "\n",
    "# Save the .pkl, it's quite a \"dill\"!\n",
    "complaints.to_pickle(canning)\n",
    "\n",
    "print(\"DataFrame successfully pickled! It's now a 'pickle'-icious file!\")"
   ]
  }
 ],
 "metadata": {
  "kernelspec": {
   "display_name": "Python 3 (ipykernel)",
   "language": "python",
   "name": "python3"
  },
  "language_info": {
   "codemirror_mode": {
    "name": "ipython",
    "version": 3
   },
   "file_extension": ".py",
   "mimetype": "text/x-python",
   "name": "python",
   "nbconvert_exporter": "python",
   "pygments_lexer": "ipython3",
   "version": "3.9.16"
  }
 },
 "nbformat": 4,
 "nbformat_minor": 5
}
