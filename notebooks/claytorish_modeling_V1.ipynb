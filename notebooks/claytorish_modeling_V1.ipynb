{
 "cells": [
  {
   "cell_type": "markdown",
   "metadata": {},
   "source": [
    "Imports"
   ]
  },
  {
   "cell_type": "code",
   "execution_count": 1,
   "metadata": {},
   "outputs": [],
   "source": [
    "import pandas as pd\n",
    "from sklearn.feature_extraction.text import CountVectorizer, TfidfVectorizer\n",
    "from sklearn.model_selection import train_test_split\n",
    "from sklearn.naive_bayes import MultinomialNB\n",
    "from sklearn.metrics import classification_report, confusion_matrix, roc_curve, auc\n",
    "from sklearn.multiclass import OneVsRestClassifier\n",
    "from sklearn.svm import LinearSVC\n",
    "from xgboost import XGBClassifier\n",
    "from tqdm import tqdm\n",
    "import plotly.figure_factory as ff\n",
    "import plotly.io as pio\n",
    "import plotly.graph_objects as go"
   ]
  },
  {
   "attachments": {},
   "cell_type": "markdown",
   "metadata": {},
   "source": [
    "importing pre-processed pickle"
   ]
  },
  {
   "cell_type": "code",
   "execution_count": 2,
   "metadata": {},
   "outputs": [],
   "source": [
    "# Load the entire .pkl file into a DataFrame\n",
    "complaints = pd.read_pickle('../data/complaints_nlp.pkl')\n",
    "\n",
    "# Select features\n",
    "columns_to_import = ['issue', 'tokens', 'stems', 'lemmas']\n",
    "complaints = complaints[columns_to_import]"
   ]
  },
  {
   "cell_type": "code",
   "execution_count": 4,
   "metadata": {},
   "outputs": [
    {
     "data": {
      "text/plain": [
       "['feel',\n",
       " 'behind',\n",
       " 'tried',\n",
       " 'get',\n",
       " 'emailed',\n",
       " 'faxed',\n",
       " 'many',\n",
       " 'time',\n",
       " 'still',\n",
       " 'able',\n",
       " 'get',\n",
       " 'done',\n",
       " 'made',\n",
       " 'many',\n",
       " 'phone',\n",
       " 'call',\n",
       " 'still',\n",
       " 'said',\n",
       " 'time',\n",
       " 'manager',\n",
       " 'call',\n",
       " 'back',\n",
       " 'never',\n",
       " 'email',\n",
       " 'paper',\n",
       " 'work',\n",
       " 'afraid',\n",
       " 'loosing',\n",
       " 'home',\n",
       " 'need',\n",
       " 'explained',\n",
       " 'still',\n",
       " 'one',\n",
       " 'reached',\n",
       " 'back',\n",
       " 'mei',\n",
       " 'copy',\n",
       " 'email',\n",
       " 'please',\n",
       " 'help']"
      ]
     },
     "execution_count": 4,
     "metadata": {},
     "output_type": "execute_result"
    }
   ],
   "source": [
    "complaints.loc[250,'lemmas']"
   ]
  },
  {
   "attachments": {},
   "cell_type": "markdown",
   "metadata": {},
   "source": [
    "The models described below use a \"bag of words\" approach."
   ]
  },
  {
   "attachments": {},
   "cell_type": "markdown",
   "metadata": {},
   "source": [
    "-----------------\n",
    "### Token Models\n",
    "> Not Fruitful.  Focus on Lemmatised and Stemmed.  **Should I even be doing this on the tokens!?!?!?** I expect that there is an issue with the size of the matrices that I'm working with.  Perhaps focusing on dimension reduction is where I need to go.\n",
    "_____________________"
   ]
  },
  {
   "attachments": {},
   "cell_type": "markdown",
   "metadata": {},
   "source": [
    "#### BOW Tokens: - Count Vectorizer"
   ]
  },
  {
   "cell_type": "code",
   "execution_count": null,
   "metadata": {},
   "outputs": [],
   "source": [
    "# Create an instance of CountVectorizer for tokens\n",
    "\n",
    "vectorizer_tokens = CountVectorizer(min_df=2)\n",
    "X_tokens = vectorizer_tokens.fit_transform(complaints['tokens'].apply(lambda x: ' '.join(x)))\n",
    "\n",
    "# Create a DataFrame from the sparse matrix\n",
    "\n",
    "bag_of_words_tokens_df = pd.DataFrame.sparse.from_spmatrix(X_tokens, columns=vectorizer_tokens.get_feature_names_out())\n",
    "\n",
    "# Concatenate the bag-of-words DataFrame with the 'issue' column\n",
    "\n",
    "bag_of_words_tokens_df = pd.concat([complaints['issue'], bag_of_words_tokens_df], axis=1)"
   ]
  },
  {
   "attachments": {},
   "cell_type": "markdown",
   "metadata": {},
   "source": [
    "#### BOW Tokens: Train/Test Split"
   ]
  },
  {
   "cell_type": "code",
   "execution_count": null,
   "metadata": {},
   "outputs": [],
   "source": [
    "X = bag_of_words_tokens_df.drop('issue', axis=1)\n",
    "y = bag_of_words_tokens_df['issue']\n",
    "X_train, X_test, y_train, y_test = tqdm(train_test_split(\n",
    "    X, y, test_size=0.2, random_state=42), total=1, leave=False)"
   ]
  },
  {
   "attachments": {},
   "cell_type": "markdown",
   "metadata": {},
   "source": [
    "#### BOW Tokens: Naive Bayes Model"
   ]
  },
  {
   "cell_type": "code",
   "execution_count": null,
   "metadata": {},
   "outputs": [],
   "source": [
    "# Create an instance of the Naive Bayes model\n",
    "nb_model = MultinomialNB()\n",
    "\n",
    "#Train The the model\n",
    "nb_model.fit(X_train, y_train)\n",
    "\n",
    "# Make Predictions from model\n",
    "y_pred = nb_model.predict(X_test)"
   ]
  },
  {
   "attachments": {},
   "cell_type": "markdown",
   "metadata": {},
   "source": [
    "It keeps yelling at me for having a sparse matrix when fitting the model . . . When I try to go dense, It crashes the kernel.  I even tried to chunk the proccess, but no joy.  I thought I needed a sparse matrix.  Dense is several gb in allocation.  If I had hair, I'd pull it :-("
   ]
  },
  {
   "attachments": {},
   "cell_type": "markdown",
   "metadata": {},
   "source": [
    "---------------\n",
    "### Stemm Models\n",
    "_____________"
   ]
  },
  {
   "attachments": {},
   "cell_type": "markdown",
   "metadata": {},
   "source": [
    "#### BOW Stemms: CountVectorizer Analysis"
   ]
  },
  {
   "cell_type": "code",
   "execution_count": null,
   "metadata": {},
   "outputs": [],
   "source": [
    "# Create an instance of CountVectorizer for stems\n",
    "vectorizer_stems = CountVectorizer(min_df=3)\n",
    "X_stems = vectorizer_stems.fit_transform(complaints['stems'].apply(lambda x: ' '.join(x)))\n",
    "\n",
    "# Create a DataFrame from the sparse matrix\n",
    "bow_stems = pd.DataFrame.sparse.from_spmatrix(X_stems, columns=vectorizer_stems.get_feature_names_out())\n",
    "\n",
    "# Concatenate the bag-of-words DataFrame with the 'issue' column\n",
    "bow_stems = pd.concat([complaints['issue'], bow_stems], axis=1)\n",
    "\n",
    "print(\"Bag-of-Words Stems:\")\n",
    "print(bow_stems.head())"
   ]
  },
  {
   "attachments": {},
   "cell_type": "markdown",
   "metadata": {},
   "source": [
    "With no limit placed on word frequency, the stems vectorizer produces a matrix of **75,905** dimensions.  \n",
    "- With a minimum word occurance of 2, dimensions were reduced to **36,811**.  This means: \n",
    "    - There are **39,094** word stems which occur only once.\n",
    "    - Single occurrance stems represent **51.50%** of the dimensions that occur in the matrix.\n",
    "    - **This may also indicate that tokens derived from the corpus require additional processing before stemming so that more words may be salvaged.** \n",
    "- With a minimum word occurrance of 3, the dimensions were reduced to **26,067**.  This means that\n",
    "    - There was a **29.19%** dimension reduction from `min_df=2`.\n",
    "    - **34.34%** of stems lemmas occur more than three times.\n",
    "    - **65.66%** of stems occur 3 or fewer times."
   ]
  },
  {
   "attachments": {},
   "cell_type": "markdown",
   "metadata": {},
   "source": [
    "#### BOW Stems: TF-IDF Analysis"
   ]
  },
  {
   "cell_type": "code",
   "execution_count": null,
   "metadata": {},
   "outputs": [],
   "source": [
    "# Create an instance of TfidfVectorizer:\n",
    "tfidf = TfidfVectorizer(min_df=1)\n",
    "\n",
    "# Fit and transform the stemmed text data using TfidfVectorizer:\n",
    "X_stems = tfidf.fit_transform(complaints['stems'].apply(lambda x: ' '.join(x)))\n",
    "\n",
    "# Create a DataFrame from the sparse matrix:\n",
    "tfidf_stems = pd.DataFrame.sparse.from_spmatrix(X_stems, columns=tfidf.get_feature_names_out())\n",
    "\n",
    "# Concatenate the TF-IDF DataFrame with the 'issue' column:\n",
    "tfidf_stems = pd.concat([complaints['issue'], tfidf_stems], axis=1)\n",
    "\n",
    "# Print the TF-IDF representation:\n",
    "print(\"TF-IDF Stems:\")\n",
    "print(tfidf_stems.head())"
   ]
  },
  {
   "attachments": {},
   "cell_type": "markdown",
   "metadata": {},
   "source": [
    "Applying TF-IDF to the stemms seems to have no effect on reducing dimensionality.  Again, do I need more preprocessing, or am I missing something else along the way?"
   ]
  },
  {
   "attachments": {},
   "cell_type": "markdown",
   "metadata": {},
   "source": [
    "#### BOW Tokens - Train/Test Split (include later if neccessary)"
   ]
  },
  {
   "cell_type": "markdown",
   "metadata": {},
   "source": [
    "--------------\n",
    "### Lemma Models\n",
    "____________"
   ]
  },
  {
   "attachments": {},
   "cell_type": "markdown",
   "metadata": {},
   "source": [
    "With no limit placed on word frequency, the **lemmas CountVectorizer** produces a matrix of **94,020** dimensions.  This means that the `lemma` matrix has **18,115** more dimensions than the `stemms` matrix in its current state.  \n",
    "- With a minimum word occurance of 2, dimensions were reduced to **47,258**.  This means: \n",
    "    - There are **46,762** lemmas which occur only once.\n",
    "    - Single occurrance lemmas represent **50.26%** of the dimensions that occur in the matrix. \n",
    "- With a minimum word occurrance of 3, the dimensions were reduced to **34,220**.  This means that:\n",
    "    - There was a **27.59%** dimension reduction from `min_df=2`.\n",
    "    - **36.40%** of word stems occur 3 or more times.\n",
    "    - **63.60%** of the stems occur fewer than 3 times."
   ]
  },
  {
   "cell_type": "code",
   "execution_count": 5,
   "metadata": {},
   "outputs": [],
   "source": [
    "# Define X & y\n",
    "X = complaints['lemmas'].apply(lambda x: ' '.join(x))\n",
    "y = complaints['issue']  # Target variable (issue category)\n",
    "\n",
    "# Train/Test Split for Lemmas\n",
    "X_train, X_test, y_train, y_test = train_test_split(X, y, random_state = 321, stratify = y)"
   ]
  },
  {
   "attachments": {},
   "cell_type": "markdown",
   "metadata": {},
   "source": [
    "#### BOW Lemmas: TF-IDF with LinearSVC"
   ]
  },
  {
   "cell_type": "code",
   "execution_count": 6,
   "metadata": {},
   "outputs": [
    {
     "name": "stdout",
     "output_type": "stream",
     "text": [
      "Consumer Complaint Classification using TF-IDF Lemmas with LinearSVC\n",
      "              precision    recall  f1-score   support\n",
      "\n",
      "           0       0.76      0.66      0.71     18291\n",
      "           1       0.84      0.76      0.80      5311\n",
      "           2       0.90      0.86      0.88      3087\n",
      "           3       0.90      0.95      0.92     57326\n",
      "           4       0.93      0.91      0.92      4343\n",
      "\n",
      "    accuracy                           0.87     88358\n",
      "   macro avg       0.87      0.83      0.85     88358\n",
      "weighted avg       0.87      0.87      0.87     88358\n",
      "\n"
     ]
    }
   ],
   "source": [
    "# Set Min Word occurance\n",
    "occurance = 2\n",
    "\n",
    "# Instantiate TfidfVectorizer:\n",
    "tfidf = TfidfVectorizer(min_df = occurance)\n",
    "\n",
    "# Fit and transform using TfidfVectorizer:\n",
    "X_train_lemmas_tfidf = tfidf.fit_transform(X_train)\n",
    "X_test_lemmas_tfidf = tfidf.transform(X_test)\n",
    "\n",
    "# Instantiate LinearSVC model\n",
    "model = LinearSVC()\n",
    "\n",
    "# Train\n",
    "model.fit(X_train_lemmas_tfidf, y_train)\n",
    "\n",
    "# Predict\n",
    "y_pred = model.predict(X_test_lemmas_tfidf)\n",
    "\n",
    "# Classification report\n",
    "report = classification_report(y_test, y_pred)\n",
    "print(\"Consumer Complaint Classification using TF-IDF Lemmas with LinearSVC\")\n",
    "print(report)"
   ]
  },
  {
   "cell_type": "code",
   "execution_count": null,
   "metadata": {},
   "outputs": [],
   "source": [
    "# Confusion matrix\n",
    "confusion_mat = confusion_matrix(y_test, y_pred)\n",
    "\n",
    "# Class labels\n",
    "class_labels = sorted(set(y_test))\n",
    "\n",
    "# Reverse the order of rows in the confusion matrix\n",
    "confusion_mat = confusion_mat[::-1]\n",
    "\n",
    "# Create a heatmap figure using Plotly\n",
    "fig = ff.create_annotated_heatmap(\n",
    "    z=confusion_mat,\n",
    "    x=class_labels,\n",
    "    y=class_labels[::-1],  # Reverse the order of y-axis labels\n",
    "    colorscale='Blues',\n",
    "    showscale=True,\n",
    ")\n",
    "\n",
    "# Update the figure layout\n",
    "fig.update_layout(\n",
    "    title='Confusion Matrix: TF-IDF Lemmas with LinearSVC',\n",
    "    xaxis=dict(title='Predicted Labels'),\n",
    "    yaxis=dict(title='True Labels'),\n",
    ")\n",
    "\n",
    "# Display the figure\n",
    "pio.show(fig)"
   ]
  },
  {
   "attachments": {},
   "cell_type": "markdown",
   "metadata": {},
   "source": [
    "#### BOW Lemmas: TF-IDF with XGBoost"
   ]
  },
  {
   "cell_type": "code",
   "execution_count": null,
   "metadata": {},
   "outputs": [],
   "source": [
    "# Set Min Word occurrence\n",
    "occurrence = 2\n",
    "\n",
    "# Instantiate TfidfVectorizer:\n",
    "tfidf = TfidfVectorizer(min_df=occurrence)\n",
    "\n",
    "# Fit and transform using TfidfVectorizer:\n",
    "X_train_lemmas_tfidf = tfidf.fit_transform(X_train)\n",
    "X_test_lemmas_tfidf = tfidf.transform(X_test)\n",
    "\n",
    "# Instantiate XGBoost classifier\n",
    "model = XGBClassifier()\n",
    "\n",
    "# Train\n",
    "model.fit(X_train_lemmas_tfidf, y_train)\n",
    "\n",
    "# Predict\n",
    "y_pred = model.predict(X_test_lemmas_tfidf)\n",
    "\n",
    "# Classification report\n",
    "report = classification_report(y_test, y_pred)\n",
    "print(\"Consumer Complaint Classification using TF-IDF Lemmas with XGBoost\")\n",
    "print(report)"
   ]
  }
 ],
 "metadata": {
  "kernelspec": {
   "display_name": "base",
   "language": "python",
   "name": "python3"
  },
  "language_info": {
   "codemirror_mode": {
    "name": "ipython",
    "version": 3
   },
   "file_extension": ".py",
   "mimetype": "text/x-python",
   "name": "python",
   "nbconvert_exporter": "python",
   "pygments_lexer": "ipython3",
   "version": "3.9.16"
  },
  "orig_nbformat": 4
 },
 "nbformat": 4,
 "nbformat_minor": 2
}
